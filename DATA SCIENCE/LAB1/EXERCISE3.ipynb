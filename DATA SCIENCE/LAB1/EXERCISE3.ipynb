{
 "cells": [
  {
   "cell_type": "code",
   "execution_count": 1,
   "metadata": {},
   "outputs": [],
   "source": [
    "# 1. Copy the given winequality dataset to your local folder. \n",
    "# 2. Load the winequality dataset using pandas\n",
    "# 3. Find the size of the dataset.\n",
    "# 4. Get the statistical summary of the data\n",
    "# 5. Print the first and last five rows\n",
    "# 6. Print the first 7 rows of the dataset.\n",
    "# 7. Display the first 7 rows of 4th column to 6th column.\n",
    "# 8. Select all the rows of the 3rd and 6th column\n",
    "# 9. Check the number of null and non-null values in the dataset columns wise.\n",
    "# 10. Rename the ph column as potential of hydrogen\n",
    "# 11. Create a new column named total_free ratio which is the ratio of the total sulphur \n",
    "# dioxide and free sulphurdioxide\n",
    "# 12. Aggregate the data based on quality\n",
    "# 13. Slice the data frame and create a new one such that the rows containing total_free ratio \n",
    "# values less than 2.7 and greater than 3.2\n",
    "# 14. Drop second column values from the dataset.\n",
    "# 15. Sort the DataFrame first by '' in descending order, then by '' in ascending order\n",
    "# 16. Find the sum and the cumulative sum of second attribute\n",
    "# 17. Find the minimum and maximum of third attribute\n",
    "# 18. Rename columns of a DataFrame\n",
    "# 19. Change the order of a DataFrame columns.\n",
    "# 20. Write a DataFrame to CSV file using tab separator.\n",
    "# 21. Replace all the NaN values with Zero's in a column of a dataframe\n",
    "# 22. Divide a data frame in 60:40 ratio.\n",
    "# 23. Combine two series into a DataFrame.\n",
    "# 24. Find the row for where the value of a first attribute is maximum.\n",
    "# 25. Get the datatypes of columns of a DataFrame."
   ]
  },
  {
   "cell_type": "code",
   "execution_count": null,
   "metadata": {},
   "outputs": [],
   "source": []
  }
 ],
 "metadata": {
  "kernelspec": {
   "display_name": "Python 3",
   "language": "python",
   "name": "python3"
  },
  "language_info": {
   "codemirror_mode": {
    "name": "ipython",
    "version": 3
   },
   "file_extension": ".py",
   "mimetype": "text/x-python",
   "name": "python",
   "nbconvert_exporter": "python",
   "pygments_lexer": "ipython3",
   "version": "3.10.12"
  }
 },
 "nbformat": 4,
 "nbformat_minor": 2
}
