{
 "cells": [
  {
   "cell_type": "code",
   "execution_count": 1,
   "metadata": {},
   "outputs": [
    {
     "name": "stdout",
     "output_type": "stream",
     "text": [
      "[55 61 30 26 27 29 23 33 18 34 19 30 25 63 24 43 38 55 36 38 29 60 46 47\n",
      " 32 22 41 41 59 48 50 40 31 59 27 25 40 19 18 35 26 42 31 60 26 48 25 21\n",
      " 24 39 21 22 42 61 30 44 34 63 59 36 33 18 22 43 52 41 25 44 43 58 40 27\n",
      " 21 57 41 54 45 55 37 56 26 50 52 28 41 33 41 43 25 46 28 64 50 42 41 19\n",
      " 31 21 18 31 24 39 24 20 30 45 39 29 25 31 26 29 30 61 38 48 54 57 25 63\n",
      " 22 36 50 31 28 41 35 25 42 28 46 38 50 30 19 48 59 42 36 51 20 62 46 57\n",
      " 52 28 50 59 36 40 24 20 25 57 33 23 35 60 38 40 55 31 51 38 28 50 43 39\n",
      " 57 50 37 43 32 31 38 61 24 31 33 42 27 20 25 23 54 55 39 58 31 45 31 58\n",
      " 32 63 41 34 46 60 63 21 20 32 64 18 47 29 53 47 51 20 38 37 50 46 36 49\n",
      " 46 48 28 26 63 53 50 26 38 31 33 59 18 62 37 42 60 38 62 33 48 45 32 37\n",
      " 44 61 40 25 53 64 52 54 54 50 37 21 42 37 55 48 56 57 23 33 41 50 60 28\n",
      " 20 42 52 48 35 22 18 32 35 57 53 35 46 40 56 59 28 31 24 43 56 62 59 18\n",
      " 40 34 37 27 46 28 22 41 32 39 64 21 42 34 64 33 25 32 31 33 43 38 39 64\n",
      " 47 62 55 40 45 30 30 44 30 25 41 57 61 30 56 45 23 52 51 61 44 23 27 43\n",
      " 45 61 19 36 48 50 44 38 48 57 18 40 52 21 24 30 57 56 37 24 31 54 41 40\n",
      " 20 46 60 49 27 59 42 63 47 30 36 60 29 59 54 34 48 60 38 53 59 35 20 39\n",
      " 47 54 63 64 34 45 26 46 20 53 31 59 54 54 58 36 51 56 64 58 43 57 55 20\n",
      " 52 46 32 29 60 44 58 39 34 46 55 59 63 58 60 29 40 24 50 32 54 41 29 53\n",
      " 50 64 45 56 18 40 51 24 54 36 45 46 55 56 48 64 25 39 34 57 47 29 32 58\n",
      " 48 26 58 48 41 20 46 18 57 30 35 51 28 46 59 29 23 35 23 60 40 32 41 35\n",
      " 28 26 37 30 43 31 34 22 42 45 22 21 30 20 30 50 50 33 54 28 30 36 48 23\n",
      " 34 49 50 61 62 49 61 53 62 42 33 39 37 31 51 22 57 21 52 52 60 32 36 56\n",
      " 56 35 23 56 45 26 58 23 23 25 32 55 59 32 51 45 31 48 61 64 27 21 21 21\n",
      " 51 53 34 46 55 18 55 47 36 32 57 24 46 28 50 64 47 36 54 47 57 46 47 57\n",
      " 44 45 60 30 35 25 45 25 37 50 30 56 50 48 40 23 45 49 59 40 30 63 40 56\n",
      " 36 47 47 36 49 52 37 47 63 61 40 33 25 46 37 45 61 37 33 24 42 40 29 55\n",
      " 19 47 33 52 40 63 60 40 63 57 36 58 62 34 35 61 42 56 18 51 36 25 32 54\n",
      " 44 50 19 42 40 52 48 39 22 21 36 51 29 29 30 22 63 18 43 58 25 25 51 25\n",
      " 52 22 23 57 30 63 50 39 46 25 46 43 59 51 19 31 56 39 45 56 38 51 19 49\n",
      " 56 46 29 53 49 20 21 50 28 50 51 23 18 55 64 26 61 62 42 34 50 50 59 42\n",
      " 39 45 64 53 22 50 63 42 56 60 43 50 58 51 24 19 49 25 31 21 46 33 47 20\n",
      " 37 50 36 58 52 48 50 64 37 59 38 58 64 22 27 18 44 39 28 39 51 56 55 61\n",
      " 57 51 49 59 25 23 24 41 40 60 57 49 55 56 41 46 54 20 28 38 18 34 48 21\n",
      " 32 62 23 28 61 64 45 51 26 22 57 50 51 25 51 32 31 61 39 54 30 44 36 55\n",
      " 53 30 59 53 43 55 19 62 59 61 18 33 46 58 24 50 44 38 56 19 34 43 37 48\n",
      " 18 60 39 51 19 43 56 30 36 31 31 42 62 44 37 57 52 33 55 56 50 54 52 64\n",
      " 19 50 48 55 25 50 61 59 23 19 51 48 36 35 36 49 25 39 36 64 62 45 27 22\n",
      " 31 41 49 55 18 36 49 19 38 32 59 22 43 37 45 46 26 63 30 64 29 26 28 41\n",
      " 42 43 36 36 23 60 64 39 27 60 31 36 41 63 49 51 32 58 26 19 40 20 40 19\n",
      " 26 25 41 31 18 60 57 21 61 61 28 52 51 29 20 28 45 23 44 21 49 29 21 19\n",
      " 31 35 26 56 22 24 30 27 23 33 38 49 44 25 61 20 50 64 29 36 62 18 55 27\n",
      " 44 38 33 19 23 20 43 46 37 61 35 23 63 33 28 47]\n"
     ]
    }
   ],
   "source": [
    "import numpy as np\n",
    "import pandas as pd\n",
    "import matplotlib.pyplot as plt\n",
    "np.random.seed(1)# random seed for consistency\n",
    "num_samples = 1000# number of samples\n",
    "age=np.random.randint(18,65,num_samples)# age of the customers\n",
    "print(age)\n"
   ]
  },
  {
   "cell_type": "code",
   "execution_count": 2,
   "metadata": {},
   "outputs": [],
   "source": [
    "income=np.random.randint(10000,100000,num_samples)# income of the customers "
   ]
  },
  {
   "cell_type": "code",
   "execution_count": 3,
   "metadata": {},
   "outputs": [],
   "source": [
    "score=np.random.randint(0,100,num_samples)# credit score of the customers"
   ]
  },
  {
   "cell_type": "code",
   "execution_count": 4,
   "metadata": {},
   "outputs": [
    {
     "name": "stdout",
     "output_type": "stream",
     "text": [
      "   age  income  score\n",
      "0   55   13217     82\n",
      "1   61   32737     97\n",
      "2   30   24766     36\n",
      "3   26   72471      6\n",
      "4   27   54049     38\n"
     ]
    }
   ],
   "source": [
    "data=pd.DataFrame({'age':age,'income':income,'score':score})# creating a dataframe\n",
    "print(data.head())"
   ]
  },
  {
   "cell_type": "code",
   "execution_count": 5,
   "metadata": {},
   "outputs": [
    {
     "name": "stdout",
     "output_type": "stream",
     "text": [
      "['69453SCT', '95461XPA', '56657VVH', '54153CXI', '38134NLT', '57931COV', '74790FNN', '21732OGL', '13673WQP', '50649TRY', '80208NPU', '23287CDA', '80236ZZA', '83353EGG', '25146VTU', '26649GZZ', '53059FVP', '56425FYM', '56263YBW', '84870FPQ', '83881IXW', '19393XYT', '83859YUB', '58855JLV', '25290XIA', '73089OXH', '11400WSS', '46202ATK', '26162KCZ', '70651EGG', '91540ACM', '60184XPL', '62851VVP', '39551WZY', '15021TSF', '55222TKP', '57109LLD', '50319TUJ', '92165MDQ', '22628RHQ', '75813PHY', '88131DDW', '99650VXP', '12383MLH', '85602SSC', '37422KSV', '86008PBL', '19656JPM', '79598PSR', '22577WWP', '38453FAC', '50047KXM', '78314KVM', '42948YZQ', '45586AJF', '40719RJH', '26398CPD', '25219SAA', '44549QVV', '99939LFL', '24502XQY', '85002JNA', '82403CGV', '34990WVZ', '22446EYP', '18597PJM', '52818LQH', '70143SQN', '38055EIO', '72024FJZ', '14263RFB', '42330YTN', '82157FIZ', '90268KBA', '62352RFI', '19647YSF', '31699CLK', '66133XBR', '47484JSQ', '54150ESY', '16310KVY', '43975AGV', '18415GJX', '87280RXG', '33837JOT', '32990JHY', '17897KFP', '29502MTT', '55642PMC', '11779MWN', '59201VXO', '27384FAW', '83130CUY', '95415FVD', '39685JWB', '71820GMP', '55251AFM', '86378PKQ', '16539EZM', '26711YQF', '64001RRO', '17016LAP', '68391RMY', '35041TDQ', '30360QGV', '17850ZDK', '39939LUV', '60007KCN', '53836URE', '60620PFC', '85197MAP', '91554JIR', '37660JVZ', '60502WCC', '64352CXO', '57175NOE', '76970KHN', '15365SUU', '10890DNJ', '60930JZP', '19664YHV', '77372YTE', '91347GDO', '14898YSX', '25817UMI', '55498XPS', '30777PAS', '58199JAR', '56268ZPY', '68262WCX', '90505HFC', '76535ALJ', '68681AHT', '14374PPR', '46855MRY', '13232LZC', '41028NFV', '17470FAT', '83994BBY', '90840YVW', '49880KOO', '55016NKW', '94382TNH', '49529KSL', '25628FNR', '66670WMY', '41705GWL', '68515MYS', '71386SIL', '40974WCI', '27099HEK', '96797DFQ', '54196SDG', '47670SHV', '91167MUO', '27121SKV', '60691YLZ', '22954YBF', '14350GSC', '98607AIQ', '59579TES', '46606ICT', '54766LZD', '70623UZI', '98012KGP', '56670BLJ', '11151PYG', '16870OYF', '55671SNT', '57277CDH', '22530HBG', '11838GDI', '94564QKR', '87710PDQ', '61627LZV', '36859DOO', '10754SCA', '48993SNB', '34859ATY', '42276ALU', '32027CEO', '47976IZG', '77244BBV', '82302ZAO', '25821IDP', '12118DPK', '27665RPP', '86356WVM', '69360CCY', '79753WNB', '55194VQO', '24471VVD', '40604WVN', '83606QZS', '66365TGZ', '42296HSS', '66324EDH', '79778TIC', '45922OJS', '76134DLU', '51292FOF', '98472FNY', '91322KBV', '71972NLG', '13487WTR', '55811WAS', '54369FMG', '21412WPN', '34974KNM', '93025KPI', '44219LUZ', '22744KMM', '33989AFU', '32535ETB', '90562HQT', '72997JNL', '98805DDS', '34997JJP', '62957UIX', '75877MUZ', '72550FLP', '89766ENC', '45002IID', '79110ZQK', '35941KAG', '41305FCN', '43961BDE', '93102BFY', '35162EZB', '95432NGQ', '49533BZF', '44941XKF', '70502IJR', '23363OHT', '70047LMK', '69869YUV', '59405YZP', '43106QLK', '96806ZUY', '74754AXW', '25812CWC', '71641BBQ', '15639FFF', '85690PDO', '34273XUE', '35879ZOZ', '49058LXV', '91542UFD', '88219MMW', '20010TVY', '10464VTE', '62773OLA', '78579YTW', '35420KHE', '48943XAH', '64586OPN', '38325VYB', '15922ZOT', '31971YUL', '69732FTA', '48527CJG', '24344AXK', '70716LFF', '70546IET', '87079RCH', '67911XQJ', '80491QRF', '30531VAS', '71735MRM', '26676RZF', '92283KVE', '54093LON', '98778MDR', '32155EXB', '82464LFZ', '48719ZYQ', '18399JUY', '49699NWP', '10577YGT', '38341FAT', '36678ILF', '60374UDW', '64609BJZ', '97218UPZ', '29627POV', '55934ZPP', '72721XMH', '42531XSV', '98947ZCY', '28685ZVV', '20935CBM', '74565FOJ', '55637IWS', '32796QIT', '99024URK', '20160YVG', '33694UNP', '85041ZGO', '45058MPB', '98589HTX', '47514IPJ', '88739CEW', '61512CVC', '22901HWL', '11535DWK', '16683BGL', '30876DIP', '48585HKD', '81052DSK', '66139WFX', '80962BVV', '40063LLD', '25444GWB', '86097ASV', '26903QGO', '35584QCX', '61911ZQL', '59292RPD', '90310FRJ', '76209JJY', '88312KHB', '74787LIJ', '31783KDO', '23030BRH', '27905ZTA', '51227PTI', '36583VAM', '87500XIH', '89956GBS', '58387OIK', '64078XQY', '70959BLT', '55675GSN', '26448VVL', '82048ZSK', '14749HAF', '25342NIG', '37579WBT', '89470CFI', '42984GPK', '79051NTS', '95014CKL', '61943RLS', '19257IPT', '89387JGS', '32862FTT', '74547DYV', '47398NQV', '29207RGN', '81068LUG', '75273BJZ', '37142VNI', '31609WZS', '85430ZCE', '75473TYG', '49911VPR', '30774UGO', '74334IEI', '33845NCH', '81071GAX', '92232MZN', '57262HUY', '18223TIL', '12099KIH', '25885FFR', '67867MFN', '90217TZA', '41830CSW', '10475DCC', '87860QOI', '79504WSU', '56186UXN', '32643XIF', '12818MRC', '41915JLI', '61181TUN', '89727ENV', '49703BIU', '70557NTP', '44617ABX', '61825BCI', '50189TME', '47228ONC', '55176GEL', '20692BTW', '88436SJC', '55321OPO', '56488YWK', '81961TAK', '58829VHV', '78857YLE', '64955RUQ', '22766PVW', '45063HJK', '55460TPO', '82851GXV', '39983AWK', '59530HNJ', '16721CUK', '28369PQG', '41989WZT', '49812UGE', '54694JIF', '64127RGX', '48004DDE', '13130ISY', '50108EYN', '95688LET', '61000BQI', '56006VXK', '49133VSG', '32698EWI', '90154DRY', '59502SVN', '46896WSJ', '26714HKZ', '16345PJV', '18508DGU', '73043NBT', '54200NZA', '93695TJU', '99272VYN', '87508OZJ', '15011SGL', '58145FJO', '36592ASJ', '13960DVE', '94770YBI', '54556SAB', '62155DTG', '60071ASA', '16078JXI', '34908BGP', '25650QUD', '59804GTN', '16417XWU', '30870HZZ', '39523IGX', '62242XNG', '51431NDW', '17733IWX', '11062QPG', '67600JBF', '39616FBA', '94683MTU', '44642GWW', '37788VST', '92107MLN', '72780GSI', '86375MTV', '20114BUJ', '53643CML', '72950ROR', '26344VSO', '78708LUG', '25140DQM', '76158WZG', '83325LFS', '83103ISV', '55833COO', '45936EZF', '14157YKI', '93206UYN', '62829DOF', '94433HCH', '23414AKE', '49291MJC', '58689VCS', '21801IYX', '15762WFV', '36742JQZ', '83781HBX', '44567KEW', '61879ZJN', '99119MRZ', '20746HID', '79902CJL', '54881ASJ', '96227XPN', '21200MUP', '98757QZH', '92558YEJ', '22441ENS', '97129QUF', '41542ZMM', '95673SML', '48352GDB', '49825RSG', '98538JSN', '25660QFU', '70538QDH', '85932GBA', '99182CYY', '60876FXA', '87910OEJ', '68454ZMD', '10355GIU', '76619OOQ', '45567MWV', '44533OCJ', '97029LTA', '92499MGG', '73496GUR', '20347KCQ', '72441QIA', '50525LCF', '13233HGE', '71886AVV', '64548FST', '63457OGO', '85376MMR', '79019OVX', '63133KZC', '45811GRG', '18727VTT', '74780GQK', '42482EAL', '24239LFF', '57613WAG', '54825WMO', '43582VNZ', '53167ORC', '70661EUC', '21551NPS', '33961HWF', '41986XTU', '96532HUO', '54595CCA', '50603EIX', '85648LLF', '54094AEG', '11048XOJ', '91268EZL', '75347SCC', '40059YSM', '52520FFA', '61002AAN', '15141FCO', '88189RZW', '77450QUS', '48704KXA', '88056BMI', '78756VVO', '30122COO', '88958YSR', '11370SFO', '17269PQE', '50824TOL', '10190ZDR', '32547WFA', '35936DVQ', '70749NYA', '85710VEK', '69845PMB', '29509AXG', '42002IFV', '71059LPD', '67862PLO', '22223ETX', '84613RFP', '95740WKM', '69530GAI', '31490ICI', '85833YBP', '62132GRD', '76804XGI', '46927HWL', '32327SOW', '18397MGO', '41059XUB', '94802TXF', '24327DHQ', '61572PLP', '94946UPU', '48627WJA', '11240NHZ', '30873KEH', '37129USL', '18092CIV', '73868TFK', '61376DFE', '94990VQM', '46819GVI', '68510JBO', '62390VQI', '50414MZN', '93516ZTO', '95942JWB', '84338YQO', '69039WTK', '37167JTO', '89413SIH', '76219LJI', '99887TPQ', '89875ZAQ', '47660ETN', '94964ONE', '82773CJL', '49511KTJ', '65556IIB', '89756SWD', '26659VHL', '44441GAG', '50166VWU', '45467UKA', '14063SZE', '88186RVK', '88031HYW', '65258EHE', '71395NMY', '91939MTU', '41460JWT', '27291VKE', '82586UDX', '76808INA', '58886GYP', '94605PFO', '85210HSZ', '59809OFX', '47100XJV', '44563SRU', '76108UQT', '85071BYW', '48744QCW', '76801HSK', '33278YRH', '98475UWO', '80402SQL', '11931NNG', '98064HMY', '98118QJU', '24392VHH', '56098AOE', '17098SDV', '60991SPX', '65793WKB', '37659WUY', '25528WOP', '33523BNO', '59285ONB', '50924PMN', '80760FWJ', '80897PPQ', '54771ASH', '86803ASP', '94037IDN', '94915PRI', '61523BVC', '13234VGC', '72509RBI', '63225MFM', '14393SJN', '96078HAP', '32015CJN', '12636ZQN', '15275JME', '73495WLZ', '99972EQM', '41295IXA', '23761PLJ', '17441WBF', '40948MMY', '12268FYU', '69320DVJ', '12572VUS', '43811ZBZ', '39373YJP', '76962XCG', '72025GTH', '35366DPW', '17706LUB', '81369MQX', '72144HRA', '63004UGF', '64693FTU', '24675LXN', '78580NLW', '25003OEE', '30282ZOJ', '51791ASK', '69958XHH', '67854EPH', '62550QRR', '79002ZRP', '86157OLV', '23434JXB', '18152OZN', '95406WNZ', '10480FGW', '38243XBV', '15482KPK', '58851TNW', '87814POD', '79126UBI', '80411MOQ', '83052HGI', '13823JMA', '51890LSG', '35179RYI', '88482YHM', '46279NCY', '27199ZHN', '93919FTJ', '79797IFP', '18869WJL', '55586GLN', '77911CIU', '71080RPG', '49584CMW', '45120ONX', '26238PSY', '72750CVU', '24768GIW', '39757UXD', '34444CHP', '13166RSU', '10329EOP', '38916EAM', '75303BJO', '18278LKF', '35258DBD', '99292UZB', '35026PDN', '52317WOG', '72165SQV', '64800BVO', '37379JVZ', '20358WQD', '79436OQA', '35509SMF', '22625HJZ', '56103MIS', '44575ICK', '25463PSO', '63299WMP', '44955OEV', '54278JLR', '53610VMN', '95601UMV', '88108HCP', '25282SSE', '98530JYB', '59028PGP', '53595SVR', '13242FJU', '79742QPA', '64055DDV', '33638TRG', '48848DIM', '91537JXY', '78203GTS', '48506JFZ', '27682NWO', '73830CMS', '56536WYV', '91895GMQ', '66166EEP', '28084LMM', '39042PMT', '81444COV', '83341XKM', '46454ENO', '95272UHM', '87791LSI', '34298PQS', '82739MRG', '70162VGV', '86441UYU', '26885EBZ', '26351JDC', '98550UHH', '62759JWW', '76568NYR', '98669NFU', '59394HRX', '65911HHY', '18814NRK', '51387FVL', '61033BVW', '97859BGD', '84783KVL', '69544WXP', '97499NDX', '50506CPX', '56744FMN', '94855QVR', '35913BAU', '51355GBS', '78869HUO', '64608ZIT', '49990TSU', '12297MGQ', '92186OOI', '90800LDU', '31537RXF', '59767MTL', '69882DHW', '24450NIO', '50768YHD', '46591MIQ', '12691WXK', '10334XSX', '35549PZW', '57794NXC', '39174EFE', '20945LTU', '82008ZPC', '41244VKF', '76923QUH', '29924XMD', '62773LPE', '36888QEC', '71389SDM', '35995AJF', '10414MBZ', '95158EVV', '34430VGY', '24275LND', '16765BEE', '53292KWZ', '84767JNF', '86339MTH', '91719XJQ', '63164FOO', '81007FNS', '49872XAX', '20347MMV', '48653LYS', '68699NPA', '99646UBG', '16675JGG', '54169EQO', '10560QKG', '28713TIA', '36242IAT', '44377CBL', '88912EVR', '86251WZB', '53574JPY', '30466XRB', '97507ISO', '87689GGK', '97694LPT', '54406AWQ', '91223FUR', '73170YSB', '93053UAL', '38046MHH', '69866TPK', '69377OFC', '60763DPN', '51466RYY', '48505GGN', '48222BIV', '31070AKU', '32103ELF', '20736NIF', '90377DOE', '56882HLI', '54563EYX', '65403FAS', '40252VWY', '93053VEH', '15173VQH', '42839MIV', '22745MRS', '78682JDI', '91182OFC', '48368QVA', '48289XLU', '68075ALY', '11787OGW', '59699AVB', '32096MTD', '78952FZY', '13024PSN', '88882FMU', '19344EKT', '90940YDU', '69251ZYI', '54051CGQ', '69811VIV', '70267WFE', '71836TWU', '62200ASB', '43573YSA', '17027GDR', '30740MWS', '55070EUR', '34725IRR', '43516CVO', '78640IAK', '64757OZR', '23451LYW', '98200JIS', '50671IPJ', '43260MLF', '11014ZMD', '57253OAL', '94095WPH', '10068BHS', '11106NEY', '46389PFF', '30130LQI', '45108KMM', '17110UJP', '28734AUB', '84640MHQ', '26598SRA', '27312OBV', '74734AMV', '77412PUY', '29906YOY', '59289LUN', '37824PAN', '86529TTB', '84090ZJT', '77957OWI', '61649HYB', '71883JER', '78401DEH', '74890DDT', '32406UEX', '79219DHC', '90828BID', '87190HHD', '69421JNB', '95284KEX', '49857RNK', '59423GRX', '87170YFZ', '78602ICM', '94212OFM', '20720LKT', '20333UVO', '86822DKX', '77000FLV', '92911IBQ', '16042BBU', '90699VPX', '39131UWN', '77207PTC', '78463PLL', '55438LOT', '12873ELR', '99296FCD', '71774XIJ', '90537HDM', '38041LYA', '83225BRP', '99295FER', '26960EIS', '54404VPL', '55659TFE', '91684UEC', '98772HVM', '67130QVE', '39679QRU', '27912BAN', '62308NCD', '28264YMR', '94644GJP', '59621ZTK', '23280ZKH', '62746TZH', '27568BNX', '53930DHG', '37574MRQ', '19917XMT', '60818XWV', '74930MFH', '19962VRL', '12710HVP', '52337SPH', '22285FDV', '31538NFP', '23786FWB', '90928MJC', '18977ZBZ', '75677CJC', '40223HMZ', '76375MMV', '27129GCJ', '53172HNB', '80747JNB', '21770BUG', '77014VEM', '80468ZYI', '14049NWZ', '24136RVC', '48893MOF', '53036VFE', '67959ZWB', '40002BOR', '99681GVD', '66409IST', '77380TKX', '51658MDI', '54261GQZ', '54094QRL']\n"
     ]
    }
   ],
   "source": [
    "aplhabets=\"ABCDEFGHIJKLMNOPQRSTUVWXYZ\"# alphabets\n",
    "EmployeeID=[]# empty list\n",
    "for i in range(1000):\n",
    "    EmployeeID.append(str(np.random.randint(10000,99999))+\"\".join(np.random.choice(list(aplhabets),3,100)))# employee id\n",
    "print(EmployeeID)\n",
    "\n"
   ]
  },
  {
   "cell_type": "code",
   "execution_count": 6,
   "metadata": {},
   "outputs": [
    {
     "name": "stdout",
     "output_type": "stream",
     "text": [
      "['MASDS', 'ACGWD', 'TNNIR', 'UOZVF', 'HHGIH', 'ZBSBL', 'VPCKC', 'OZPSL', 'NKSCA', 'BDUPX', 'XOHQN', 'DSWIM', 'ZDZXU', 'AFHZW', 'JZAMC', 'PJJAR', 'CEVUM', 'SACBY', 'AQEWY', 'FNXHQ', 'VPCSI', 'SOONW', 'EPULI', 'CQYAR', 'MUZKV', 'ZHSQM', 'EWFOC', 'DGTBM', 'NKDCG', 'BLTXJ', 'GTUGM', 'CZFXV', 'WMMQM', 'QRSSI', 'UOHBP', 'EKAPN', 'OOBDZ', 'SBGQZ', 'LWRFD', 'LRLHO', 'DVGZS', 'MIRPI', 'KIZUD', 'VZMZI', 'QZNKV', 'XSAQR', 'SWXEP', 'EDQOB', 'NVDUU', 'VIEEY', 'VLPFE', 'TBIMY', 'YCUOS', 'MMYWQ', 'PLDHT', 'OTPXR', 'VNCLL', 'PPCJN', 'UYIYO', 'XAXQO', 'ZLGLE', 'JVBUI', 'CXVHO', 'SDIJM', 'ZYQXF', 'NUNSC', 'LHFNN', 'ZSBFE', 'URTGS', 'AYLJL', 'IFWLF', 'EBLWH', 'BZOEN', 'ARIDS', 'FAEML', 'PZTXV', 'TTEPG', 'WDLAE', 'IBEMZ', 'KWMYW', 'DDKGA', 'XDCGM', 'AZQCL', 'RDAXU', 'MTNZJ', 'UHRLF', 'LWJGQ', 'TOUYS', 'BJOFX', 'EHQSD', 'VVJRJ', 'WMSPO', 'SEHEJ', 'TIKIZ', 'BUBRR', 'AEBWR', 'COIVA', 'QYHSR', 'SQPTV', 'PIVGB', 'SUDPJ', 'JJTLA', 'KPTMV', 'BZGDD', 'LDGYG', 'XZMDP', 'TMLJH', 'JFBOY', 'TFDKP', 'MRTUW', 'HJGGD', 'SUEJC', 'MTGKY', 'EYVIJ', 'FXBYO', 'JTAIP', 'ADJFJ', 'YXRSP', 'ZYVTO', 'IYIAS', 'AJEOS', 'JFWPX', 'NXJCV', 'IFQKL', 'IGIBD', 'IBTHD', 'TEEHD', 'GIRKP', 'ZPLVF', 'BOQCD', 'VGZUH', 'YWQRM', 'VMKHU', 'XUBGG', 'PEGNI', 'SXRFD', 'TPXIR', 'EPTZS', 'FNLWB', 'LZQZV', 'ICGNG', 'VEMUI', 'KWIWT', 'UHROH', 'CZBHY', 'CPRHW', 'FKPSE', 'GKHTS', 'VKMYH', 'KCWAT', 'ZXSVK', 'EIBGO', 'UBJCZ', 'KPBBV', 'FTJTL', 'MOOFK', 'XHGBZ', 'SXIAP', 'HFZRX', 'UPVQL', 'ZKVSG', 'URRMF', 'YRXKO', 'FWXVT', 'EHXKT', 'KWZBV', 'YYZUV', 'ZCMYV', 'ZHGGR', 'TMDRC', 'JKSJD', 'KXAZQ', 'MYHFX', 'KANJW', 'NDFMA', 'CVYNH', 'AGHWU', 'PAABK', 'DJFJR', 'POYJF', 'WQWUF', 'BQAKX', 'GDEMJ', 'LSZJD', 'IBSAJ', 'TCIFW', 'ZXDVV', 'TIIQW', 'QAKQI', 'LPHRF', 'EEUMC', 'HFCAW', 'ZWUSW', 'BDNZE', 'TJZUW', 'NPOSC', 'PBPKC', 'GFXQI', 'OXJJJ', 'BYHFA', 'AWLPS', 'FADTM', 'ROTJD', 'ZPDBK', 'UAHYL', 'SOPXM', 'LRYYP', 'HHDEB', 'AXVAB', 'AZKNY', 'XLQEY', 'DGJIQ', 'HNLKQ', 'SOGIR', 'PFMUA', 'ZAVWJ', 'FLDFN', 'WBGEF', 'FJFBK', 'RIPUQ', 'DMBUU', 'CGMRL', 'XEXDV', 'JZVCX', 'URCUB', 'XHCBR', 'CZUGF', 'XDLVK', 'JBVCW', 'KIUOG', 'WTOMC', 'LHJVL', 'TPJGG', 'LJQBH', 'XVROF', 'ZUTJK', 'OJQWH', 'XHDMU', 'OHDXE', 'TCJRA', 'SVTVI', 'JMQJZ', 'YLPTK', 'ZKLBQ', 'MWSGR', 'TGEJL', 'ZDJFY', 'CDGUM', 'SWEEK', 'WKTVW', 'ZWRUD', 'RDZVA', 'APOVY', 'SPRZC', 'AWVDR', 'VRPJS', 'INHQN', 'QSTDB', 'MFVPY', 'AHUZA', 'OAENF', 'KUPWH', 'BKAMF', 'WBZHF', 'CTDBZ', 'RTILJ', 'KCYOI', 'BSCJB', 'GFMGK', 'RQANV', 'QLGPB', 'LXPME', 'DBULF', 'YNONH', 'WHQOO', 'XGQMY', 'WZPLW', 'ICFCN', 'YJQAQ', 'JCXGH', 'NRWXJ', 'QIOME', 'YZXLW', 'JXNGF', 'HLFHT', 'LEYSC', 'AUZDO', 'TFKBA', 'NZQXI', 'DQLQN', 'YDKHB', 'OKDFX', 'YOJOO', 'DVCGO', 'YUOXJ', 'MPEOA', 'ZAXXH', 'AFGQO', 'MGREI', 'CTAYT', 'SAOUZ', 'DCUSF', 'GEYGE', 'FICMV', 'RRNJG', 'LELQK', 'SVBUR', 'FDAYZ', 'HGAGH', 'CSIIT', 'ZLNCD', 'QRVAB', 'BCUFO', 'AKANX', 'YDMST', 'LVRKB', 'MHTMW', 'OBSEO', 'WAVLP', 'AAUIC', 'BCKPI', 'SRIRQ', 'LJHHO', 'YZZVN', 'BALPP', 'ZBDUV', 'ODBZQ', 'VCOVX', 'FTIZV', 'JPDCI', 'LYPFU', 'VWEUQ', 'IHYOI', 'JQMCN', 'CYFVO', 'QDTLB', 'XQRSP', 'YGWDE', 'QVCKN', 'XJJXS', 'IHJXO', 'KFBBX', 'BTIRR', 'PGKOP', 'MDCDQ', 'LCLPG', 'RYKLP', 'NLNDF', 'QEEVQ', 'KOAWQ', 'RPNFW', 'PQBHB', 'XEUEU', 'CNUNB', 'NGQDH', 'GTUVA', 'YGVHY', 'IDOVB', 'KVCLQ', 'KXZDJ', 'KYNNS', 'ZGCAA', 'BWDCB', 'YUYGP', 'BJFJR', 'XRMLF', 'JLAVY', 'XRIXB', 'YNBQP', 'PNJLF', 'YZEPX', 'WXZAP', 'HOLQD', 'QEZWS', 'BQYAU', 'KCPZK', 'OAGPH', 'TLDNP', 'JRVGM', 'ERJTV', 'CFBZH', 'ZRUFB', 'HQDVY', 'CPMQC', 'AHKIK', 'CKIZY', 'MJMBM', 'OVXUV', 'MHXZD', 'EAJOS', 'XNWKB', 'YFDUC', 'CYKHI', 'XGHBT', 'TWQPR', 'RFFBN', 'XAFTW', 'JQUZV', 'ZZRWT', 'OZAFG', 'DCFFG', 'WZLYC', 'QDXWW', 'FQLKR', 'SMEEH', 'MKLPK', 'XOFOQ', 'WLKVX', 'MYINV', 'KHARL', 'NRLDK', 'MYUVJ', 'XAIGA', 'DPXAC', 'MTTXY', 'FJZSC', 'VMWGZ', 'RUQBT', 'ABUPO', 'ZSXUY', 'WZDLD', 'LCLAW', 'YBRVW', 'IASYA', 'UXGYJ', 'IGBAE', 'EJKYQ', 'EVVXR', 'TFVAM', 'NTPMX', 'QFOAZ', 'XAOGK', 'MAUZH', 'KIZNC', 'ODBJJ', 'DBFGE', 'WGNPR', 'EIEFT', 'YQNXJ', 'DSFOI', 'XCWIK', 'XJUMG', 'ZYXKM', 'XEFSM', 'LOOLS', 'XLAXC', 'HARNK', 'JGUNJ', 'MKJIX', 'GZLXS', 'WBSKI', 'AFLQA', 'WNNKB', 'LYPTV', 'WAFHK', 'JRVVV', 'FTHCL', 'QQCGK', 'UIELK', 'SVKAT', 'YHMCY', 'LKQES', 'ETGFE', 'FELBD', 'ZRCEH', 'ONMOQ', 'TNOQM', 'NQCOM', 'MEHDN', 'WWWDH', 'KXLAB', 'JXQHN', 'BZQUN', 'DVZJH', 'AOBOD', 'PLVUW', 'ZZRQG', 'BIPHP', 'QURUC', 'FSYCB', 'WFOGQ', 'PLEKO', 'OUADH', 'ZHQJO', 'HXWCG', 'OAXES', 'ALZYM', 'PKLHP', 'DFFYJ', 'VRGRT', 'BUPRX', 'IDKIL', 'DJRWH', 'PNYHB', 'QWSAD', 'WMFGK', 'POVXL', 'LPQKA', 'AKAAD', 'ASWKI', 'LHHLF', 'TMZFK', 'XEWOO', 'UUHAA', 'CXFSI', 'AKJYS', 'CVPYF', 'IBPGF', 'NCPMA', 'VLMEJ', 'PKNHV', 'NYWPS', 'DYPSS', 'OGWTO', 'STNCM', 'CGHVL', 'IOYPD', 'IDBVN', 'ZFRNE', 'VEZZT', 'XGYSU', 'NYIHS', 'PFTBN', 'OSKPU', 'WFMUC', 'UPCJZ', 'BBWNL', 'DHPXE', 'HOEFH', 'HBZZK', 'ZHPET', 'OBKYI', 'HQAET', 'XTZDC', 'DOAUI', 'OREMK', 'ZOKRH', 'HOCDG', 'YLBAY', 'BZOKP', 'GNVLK', 'KWIAY', 'CFIAQ', 'SQLOM', 'VXUOH', 'ASCIM', 'AWKTG', 'NCVMN', 'BPQGS', 'ZQGHZ', 'RSOZZ', 'LKNWE', 'JGBHT', 'QLTDZ', 'UEILT', 'OOPJO', 'ALAXY', 'QEGYE', 'NTKZC', 'VIUCY', 'XOGVM', 'EMAZW', 'HZQNB', 'YUCZE', 'ICWWJ', 'ZLFBY', 'TSAJL', 'YHBYJ', 'JLYIH', 'XLWPW', 'XTKYF', 'VXDUL', 'QFDXH', 'FCIZD', 'PWCDW', 'VVNTK', 'YIHMC', 'FKLMC', 'NPKAK', 'KCGXZ', 'XRWJQ', 'LEQMA', 'XEFWP', 'QCTVO', 'RDQKP', 'LVCUT', 'RCXHK', 'BDZLF', 'QGDGH', 'JKPOA', 'BUFUX', 'GHCUA', 'LCHFY', 'YKVCZ', 'WUOAC', 'XUIFN', 'KYXEV', 'HUUFX', 'RUZII', 'WGVVW', 'BLVLM', 'UDQOP', 'POZVZ', 'DNXXO', 'DODAV', 'ULRMW', 'UXDNO', 'JUWOF', 'QIQWF', 'BIPZM', 'UPDKK', 'OSNSY', 'AQOUY', 'VIWER', 'LKORL', 'BZHNH', 'UCSEM', 'THLMF', 'AJWOT', 'GFIOF', 'LHPMW', 'MLPKK', 'XPGNK', 'QOHXJ', 'UHASN', 'EKZID', 'XDCYK', 'FWLQS', 'GUTZG', 'UEHET', 'OWHHQ', 'USCUR', 'TLTQB', 'VOTED', 'YCWJS', 'YHGOW', 'TQTEL', 'NQVZD', 'LTOAT', 'ABXVI', 'VJYLB', 'YHKZB', 'OMRCP', 'IBXHU', 'MADMQ', 'QCTHN', 'UWTXZ', 'BPWGE', 'VMRAJ', 'LKIRR', 'LETFS', 'JAJTM', 'ULYJT', 'PQYCD', 'VCDHV', 'IJIFS', 'UFSSX', 'UUSML', 'KKSSV', 'BGIQJ', 'NODYR', 'DEGYV', 'RPPKB', 'WVCPL', 'UXVOB', 'AHCEO', 'KCDSV', 'SLVRG', 'YHMIQ', 'XSXQW', 'FBGHD', 'RIQBK', 'HVDPI', 'TEIFV', 'JMEMJ', 'XSLWQ', 'INDDQ', 'POMLM', 'HVGCF', 'MIAFI', 'AZPQE', 'DRCJJ', 'RKNYB', 'VUKIA', 'TMXEL', 'APUQE', 'VKBIH', 'QRHFK', 'KDWJG', 'TROPA', 'XRTOJ', 'AZBGD', 'QAAAJ', 'LQPMH', 'TAVEG', 'IEFZD', 'PICBH', 'TZZTW', 'CLARZ', 'AGWXU', 'XZDQY', 'GISQH', 'CTLLA', 'ZJDKA', 'BBLOD', 'VRKOQ', 'GXXME', 'AZGFK', 'UXJLW', 'RANAV', 'OQXAS', 'LDEFO', 'WHEWN', 'PYKHQ', 'YVIGF', 'CHJAX', 'QOPWQ', 'EJXUM', 'ESOPR', 'UVGSR', 'ZHRTX', 'JEVKD', 'XISKE', 'TVPEO', 'AXRSI', 'KOGLT', 'CNNOO', 'FVXWB', 'ZPLIH', 'YYFGI', 'DIMLZ', 'SMCSW', 'MFHYT', 'MYLUV', 'DBKCX', 'MVAGD', 'XFWJN', 'WFMGQ', 'XHFRF', 'GOZSV', 'NWRMH', 'QYOQS', 'RTEHP', 'UZSUM', 'GAHRC', 'IZLYO', 'IREXH', 'SZUFH', 'IDCDO', 'SWABL', 'XJCDV', 'MTOVE', 'WQHGR', 'MVMYH', 'KBPIF', 'PIJHG', 'SZQAK', 'OCKLI', 'XWSTK', 'QBTCF', 'HEOVH', 'FBAER', 'EXAYQ', 'TKATG', 'ATWIR', 'DNCII', 'FHBYN', 'GZTAQ', 'MRYER', 'LDNRL', 'NUBLN', 'HKQUP', 'NXTLX', 'UMQMS', 'WIGXR', 'TBQJT', 'QAZOI', 'KSWHN', 'TZOYD', 'EKUYD', 'DOAET', 'UAIEY', 'HMOES', 'UYIHT', 'XMEPU', 'VCDQQ', 'FQGXL', 'GUVVB', 'HONAW', 'PZXBQ', 'JYNHI', 'XOFGH', 'AIDFP', 'BLLIY', 'ENSKO', 'BMXVK', 'LGMID', 'TJFEN', 'KKTIA', 'BUOAW', 'BEUVQ', 'PIWXY', 'DFMPN', 'LANAY', 'MWQTZ', 'QTYZQ', 'LCJPH', 'JEJXY', 'LOCMJ', 'MCIII', 'MANSZ', 'BOSNB', 'SEKEO', 'FYDEA', 'DHEEH', 'QGAXZ', 'SVWJO', 'RFUFU', 'BISJM', 'ZAJBS', 'UYTXT', 'AGEUJ', 'SLMET', 'ZHVWC', 'NAXRI', 'BDIUA', 'KXCAH', 'WRFDE', 'QHFWW', 'LZVBW', 'IICSC', 'LZOZI', 'GFKXQ', 'AZJTI', 'HESFM', 'BQVEI', 'CMGEB', 'PUIUF', 'TICKB', 'HZYZE', 'SYYRQ', 'RIROB', 'BGRQI', 'XOIPB', 'TASVG', 'XCLXW', 'VAVKD', 'PVKEH', 'DUZAE', 'DNEXW', 'QUEYS', 'ITTTQ', 'HCYUL', 'KRSWA', 'DJIFF', 'YOYME', 'FEECI', 'XLUVR', 'EKRWN', 'DSUYW', 'SAGCS', 'FZPSW', 'YDFXS', 'HPBER', 'IXYLG', 'PAMGX', 'CUYYI', 'UOKRV', 'FHYGT', 'RBFWW', 'KKUCM', 'LEDIE', 'VKDKD', 'ZQMLP', 'KOQCM', 'GSTFF', 'DZYMI', 'SJXCG', 'YPISX', 'DEHHZ', 'KYJZY', 'GEFSR', 'BUYPD', 'FJJGI', 'NGCPP', 'MQGKM', 'JHFFW', 'ZEGER', 'ZQLKB', 'NBVZY', 'TSQZG', 'PGDRZ', 'ZRFJM', 'QEOBF', 'KAWUV', 'YRGXJ', 'PUGMJ', 'BCLEF', 'SVYJO', 'SOIMA', 'UUFZL', 'KTPKQ', 'TRPIC', 'ADAGG', 'WYDZW', 'CXVTZ', 'HJZVV', 'OZNMN', 'GNDOJ', 'QNVPS', 'UUPBE', 'HVMXI', 'AYSIE', 'OKFDE', 'QBBEN', 'HVDLK', 'RFFES', 'CAVZK', 'YVAJA', 'ELAVV', 'JQOMQ', 'HCNWB', 'TXMMG', 'MKGLO', 'YCFYO', 'SRXAZ', 'XGIPQ', 'VMLKL', 'TVBSR', 'FFLPF', 'RSOUA', 'YGGPC', 'KRUYP', 'XMRYK', 'MJVUC', 'JDWIM', 'DPXOS', 'JIGOT', 'PXRZE', 'VMEDP', 'MBQVD', 'AOJRI', 'ZSQKM', 'YNLOF', 'FUKHP', 'BDSVD', 'ZWUYN', 'WGMAL', 'TYBGQ', 'WIIOO', 'TCRCV', 'HOIJF', 'PIMCP', 'VXBMV', 'QLLBB', 'TPWBU', 'KNJPK', 'UKVJO', 'OZNZZ', 'RAHGP', 'AUBXQ', 'TWCDN', 'HHWLJ', 'OKWZC', 'SAOGL', 'DNSYJ', 'EGMOW', 'CRHME', 'DCEPI', 'ALSTE', 'ETKTT', 'UNSSW', 'ZTEJS', 'LEMKN', 'FOKOV', 'OODAU', 'BSJMV', 'SQYSG', 'OHEHX', 'FGYKS', 'BKYLG', 'GCVDL', 'JYZXJ', 'HNUBF', 'ZPYPC', 'ZSIRJ', 'EFPTU', 'CDVPQ', 'SEBME', 'SHWLI', 'SZUIH', 'QXJXX', 'BHTNQ', 'MHXFZ', 'TKLIR', 'GCIET', 'PZRFJ', 'BLLRS', 'ISYOW', 'NEOOO']\n"
     ]
    }
   ],
   "source": [
    "Employee_name=[]# empty list\n",
    "for i in range(1000):\n",
    "    Employee_name.append(\"\".join(np.random.choice(list(aplhabets),5,1000)))# employee name\n",
    "print(Employee_name)"
   ]
  },
  {
   "cell_type": "code",
   "execution_count": 7,
   "metadata": {},
   "outputs": [
    {
     "name": "stdout",
     "output_type": "stream",
     "text": [
      "['R&D' 'Operations' 'Sales' 'Marketing' 'Operations' 'Procurement'\n",
      " 'Marketing' 'R&D' 'R&D' 'R&D' 'IT' 'Procurement' 'Finance' 'R&D' 'Legal'\n",
      " 'HR' 'R&D' 'IT' 'HR' 'HR' 'Legal' 'Finance' 'Finance' 'Sales' 'Sales'\n",
      " 'Operations' 'Legal' 'HR' 'HR' 'Operations' 'Sales' 'Finance' 'Legal'\n",
      " 'Finance' 'Legal' 'Finance' 'R&D' 'IT' 'Operations' 'Admin' 'Procurement'\n",
      " 'Sales' 'R&D' 'Operations' 'Sales' 'Marketing' 'IT' 'IT' 'Sales' 'Legal'\n",
      " 'Operations' 'Operations' 'Admin' 'Marketing' 'Admin' 'Marketing'\n",
      " 'Operations' 'Legal' 'Marketing' 'R&D' 'Procurement' 'Admin' 'Admin'\n",
      " 'Operations' 'R&D' 'Admin' 'Sales' 'Operations' 'Finance' 'IT' 'Legal'\n",
      " 'Operations' 'Marketing' 'Marketing' 'Legal' 'Admin' 'Sales' 'R&D'\n",
      " 'Finance' 'Procurement' 'Legal' 'Marketing' 'HR' 'Procurement' 'Sales'\n",
      " 'HR' 'HR' 'Legal' 'Procurement' 'R&D' 'IT' 'HR' 'HR' 'Legal' 'Finance'\n",
      " 'R&D' 'Legal' 'Procurement' 'Sales' 'Legal' 'Marketing' 'Finance'\n",
      " 'Operations' 'Sales' 'HR' 'R&D' 'Operations' 'HR' 'R&D' 'Marketing'\n",
      " 'Marketing' 'Procurement' 'Legal' 'Admin' 'R&D' 'Legal' 'Legal'\n",
      " 'Procurement' 'Admin' 'Operations' 'Marketing' 'Admin' 'HR' 'Admin'\n",
      " 'Operations' 'Sales' 'Admin' 'Legal' 'HR' 'HR' 'Marketing' 'IT' 'IT'\n",
      " 'Procurement' 'Operations' 'IT' 'Sales' 'Legal' 'Sales' 'Sales'\n",
      " 'Operations' 'Marketing' 'R&D' 'IT' 'Finance' 'Finance' 'IT' 'Operations'\n",
      " 'Operations' 'Admin' 'R&D' 'IT' 'Admin' 'Legal' 'Operations' 'Operations'\n",
      " 'Sales' 'Legal' 'Admin' 'Admin' 'Sales' 'Sales' 'Procurement'\n",
      " 'Procurement' 'Sales' 'Admin' 'R&D' 'IT' 'Operations' 'Marketing' 'R&D'\n",
      " 'R&D' 'Legal' 'Finance' 'R&D' 'Operations' 'IT' 'Legal' 'Marketing'\n",
      " 'Admin' 'HR' 'Legal' 'IT' 'R&D' 'Marketing' 'IT' 'R&D' 'Sales' 'Sales'\n",
      " 'IT' 'Procurement' 'Marketing' 'HR' 'R&D' 'Procurement' 'Legal' 'Admin'\n",
      " 'Legal' 'Marketing' 'Sales' 'Marketing' 'HR' 'Marketing' 'Marketing'\n",
      " 'Admin' 'Procurement' 'Finance' 'Operations' 'IT' 'Finance' 'HR' 'R&D'\n",
      " 'R&D' 'Procurement' 'Procurement' 'Finance' 'Operations' 'Sales'\n",
      " 'Operations' 'IT' 'HR' 'Procurement' 'Procurement' 'Marketing' 'Finance'\n",
      " 'Procurement' 'Procurement' 'Procurement' 'HR' 'Operations' 'Legal'\n",
      " 'Procurement' 'Finance' 'IT' 'Operations' 'Finance' 'Marketing'\n",
      " 'Marketing' 'HR' 'R&D' 'Admin' 'R&D' 'Legal' 'IT' 'Legal' 'Admin'\n",
      " 'Marketing' 'HR' 'Operations' 'Marketing' 'Operations' 'HR' 'Legal'\n",
      " 'Operations' 'HR' 'R&D' 'IT' 'Operations' 'HR' 'Finance' 'R&D' 'Legal'\n",
      " 'IT' 'Finance' 'Procurement' 'IT' 'Procurement' 'R&D' 'Procurement'\n",
      " 'Finance' 'R&D' 'Sales' 'Marketing' 'Sales' 'Operations' 'Operations'\n",
      " 'R&D' 'Procurement' 'Admin' 'HR' 'IT' 'Procurement' 'R&D' 'Finance'\n",
      " 'Procurement' 'Sales' 'R&D' 'R&D' 'Operations' 'Finance' 'Procurement'\n",
      " 'Marketing' 'Finance' 'IT' 'Operations' 'Legal' 'Procurement' 'Legal'\n",
      " 'R&D' 'R&D' 'Legal' 'HR' 'IT' 'Procurement' 'HR' 'Legal' 'HR' 'Sales'\n",
      " 'Legal' 'Operations' 'Legal' 'Sales' 'Admin' 'Operations' 'Finance'\n",
      " 'Admin' 'Admin' 'Marketing' 'IT' 'Sales' 'Procurement' 'IT' 'Procurement'\n",
      " 'Marketing' 'IT' 'Legal' 'Sales' 'HR' 'R&D' 'HR' 'Procurement' 'HR'\n",
      " 'Operations' 'Operations' 'Finance' 'Admin' 'Procurement' 'HR' 'R&D'\n",
      " 'Procurement' 'Procurement' 'Legal' 'IT' 'Admin' 'HR' 'Legal' 'Marketing'\n",
      " 'Operations' 'R&D' 'Marketing' 'Sales' 'R&D' 'Procurement' 'Procurement'\n",
      " 'Procurement' 'Procurement' 'Legal' 'Procurement' 'Operations' 'IT' 'R&D'\n",
      " 'R&D' 'Sales' 'IT' 'Procurement' 'Operations' 'IT' 'Marketing'\n",
      " 'Operations' 'HR' 'Operations' 'HR' 'Sales' 'IT' 'R&D' 'IT' 'Sales'\n",
      " 'Marketing' 'Admin' 'IT' 'R&D' 'Admin' 'IT' 'Procurement' 'HR' 'Sales'\n",
      " 'Finance' 'Operations' 'Operations' 'HR' 'Finance' 'Legal' 'Marketing'\n",
      " 'IT' 'Legal' 'Marketing' 'Finance' 'R&D' 'R&D' 'IT' 'Procurement'\n",
      " 'Procurement' 'Sales' 'Sales' 'HR' 'R&D' 'Procurement' 'Operations'\n",
      " 'Admin' 'Sales' 'Operations' 'Marketing' 'Operations' 'Legal' 'IT' 'IT'\n",
      " 'Procurement' 'Finance' 'IT' 'Procurement' 'R&D' 'IT' 'R&D' 'Sales' 'R&D'\n",
      " 'R&D' 'Sales' 'Procurement' 'HR' 'Marketing' 'Marketing' 'R&D'\n",
      " 'Marketing' 'IT' 'HR' 'Admin' 'Admin' 'Procurement' 'Operations' 'Sales'\n",
      " 'R&D' 'Marketing' 'Finance' 'IT' 'Legal' 'Sales' 'R&D' 'Sales' 'Admin'\n",
      " 'IT' 'IT' 'Finance' 'Admin' 'Operations' 'Sales' 'Admin' 'R&D' 'Finance'\n",
      " 'HR' 'R&D' 'Marketing' 'Marketing' 'Admin' 'Sales' 'R&D' 'IT' 'Sales'\n",
      " 'R&D' 'Finance' 'Procurement' 'R&D' 'HR' 'Sales' 'Sales' 'HR' 'Finance'\n",
      " 'Marketing' 'Legal' 'Sales' 'R&D' 'Sales' 'Legal' 'Sales' 'Sales' 'Legal'\n",
      " 'Procurement' 'Legal' 'Marketing' 'Operations' 'Admin' 'Operations'\n",
      " 'Legal' 'Sales' 'R&D' 'Marketing' 'HR' 'HR' 'Procurement' 'HR' 'Finance'\n",
      " 'Operations' 'Legal' 'Finance' 'R&D' 'Marketing' 'Legal' 'R&D' 'Legal'\n",
      " 'Admin' 'Operations' 'Procurement' 'Marketing' 'Admin' 'Finance' 'Sales'\n",
      " 'Sales' 'Sales' 'Finance' 'Procurement' 'Legal' 'IT' 'Marketing' 'Sales'\n",
      " 'IT' 'IT' 'Operations' 'Sales' 'Admin' 'HR' 'Legal' 'Admin' 'Procurement'\n",
      " 'Legal' 'Admin' 'IT' 'Legal' 'Legal' 'Marketing' 'Finance' 'Marketing'\n",
      " 'IT' 'Admin' 'Marketing' 'Sales' 'Procurement' 'Sales' 'Procurement'\n",
      " 'Procurement' 'IT' 'HR' 'Legal' 'R&D' 'Legal' 'Finance' 'Sales'\n",
      " 'Operations' 'Operations' 'IT' 'Operations' 'Legal' 'IT' 'Legal'\n",
      " 'Finance' 'Admin' 'Operations' 'Legal' 'R&D' 'Marketing' 'HR' 'Sales'\n",
      " 'Procurement' 'HR' 'Procurement' 'Procurement' 'Operations' 'Finance'\n",
      " 'IT' 'Operations' 'Operations' 'Operations' 'Procurement' 'Sales'\n",
      " 'Finance' 'HR' 'Legal' 'Admin' 'Finance' 'Sales' 'R&D' 'Admin' 'Sales'\n",
      " 'R&D' 'Sales' 'R&D' 'HR' 'R&D' 'Sales' 'Legal' 'Finance' 'Finance'\n",
      " 'Legal' 'Marketing' 'Marketing' 'HR' 'IT' 'R&D' 'R&D' 'Procurement'\n",
      " 'Legal' 'IT' 'Admin' 'R&D' 'HR' 'Finance' 'Marketing' 'Admin' 'Finance'\n",
      " 'Legal' 'HR' 'R&D' 'R&D' 'R&D' 'Procurement' 'Sales' 'R&D' 'Finance'\n",
      " 'R&D' 'Marketing' 'Sales' 'R&D' 'Finance' 'Operations' 'HR' 'Finance'\n",
      " 'Finance' 'IT' 'Sales' 'Sales' 'Marketing' 'Marketing' 'Marketing'\n",
      " 'Legal' 'R&D' 'Admin' 'Procurement' 'HR' 'Admin' 'Admin' 'Marketing'\n",
      " 'Sales' 'Legal' 'Legal' 'Legal' 'Admin' 'HR' 'Operations' 'IT' 'HR'\n",
      " 'Admin' 'Sales' 'Sales' 'R&D' 'Finance' 'Sales' 'Sales' 'Procurement'\n",
      " 'Admin' 'Marketing' 'R&D' 'Operations' 'HR' 'Legal' 'Marketing'\n",
      " 'Procurement' 'HR' 'Marketing' 'HR' 'Finance' 'R&D' 'Finance' 'Admin'\n",
      " 'HR' 'HR' 'Legal' 'R&D' 'IT' 'Marketing' 'HR' 'Operations' 'Sales'\n",
      " 'Admin' 'Procurement' 'HR' 'Procurement' 'Operations' 'Operations'\n",
      " 'Admin' 'Procurement' 'Legal' 'HR' 'Legal' 'Legal' 'Operations' 'Finance'\n",
      " 'IT' 'Sales' 'HR' 'Legal' 'Sales' 'Finance' 'Finance' 'Operations'\n",
      " 'Finance' 'Finance' 'Legal' 'Legal' 'Finance' 'IT' 'Legal' 'Operations'\n",
      " 'Marketing' 'Marketing' 'R&D' 'IT' 'Operations' 'Marketing' 'IT'\n",
      " 'Procurement' 'R&D' 'IT' 'R&D' 'Operations' 'HR' 'Admin' 'HR'\n",
      " 'Operations' 'Operations' 'Finance' 'Admin' 'Procurement' 'Sales' 'Sales'\n",
      " 'Marketing' 'IT' 'Procurement' 'Marketing' 'IT' 'Finance' 'Admin' 'IT'\n",
      " 'Operations' 'Operations' 'Legal' 'IT' 'Legal' 'Sales' 'IT' 'Operations'\n",
      " 'Legal' 'Operations' 'R&D' 'Admin' 'Legal' 'HR' 'HR' 'R&D' 'Finance' 'IT'\n",
      " 'Marketing' 'IT' 'Sales' 'Procurement' 'Sales' 'Finance' 'Legal'\n",
      " 'Marketing' 'Legal' 'Legal' 'Procurement' 'R&D' 'Legal' 'Operations'\n",
      " 'Finance' 'Operations' 'Finance' 'Finance' 'Sales' 'Marketing'\n",
      " 'Marketing' 'R&D' 'Marketing' 'Legal' 'R&D' 'Operations' 'Legal'\n",
      " 'Procurement' 'Sales' 'Legal' 'Marketing' 'Finance' 'Procurement' 'Legal'\n",
      " 'Procurement' 'IT' 'Admin' 'IT' 'Admin' 'IT' 'Marketing' 'R&D' 'Admin'\n",
      " 'Finance' 'Marketing' 'Finance' 'Procurement' 'Legal' 'Marketing'\n",
      " 'Procurement' 'Operations' 'Legal' 'Procurement' 'Finance' 'Legal'\n",
      " 'Procurement' 'HR' 'Finance' 'HR' 'Legal' 'Legal' 'Admin' 'Marketing'\n",
      " 'HR' 'Admin' 'Finance' 'Marketing' 'Admin' 'Operations' 'Procurement'\n",
      " 'Admin' 'Marketing' 'Finance' 'Operations' 'Admin' 'Admin' 'R&D' 'Admin'\n",
      " 'Admin' 'R&D' 'Operations' 'Legal' 'Operations' 'Operations' 'Finance'\n",
      " 'R&D' 'Admin' 'R&D' 'Operations' 'Finance' 'Marketing' 'Finance' 'Sales'\n",
      " 'Admin' 'IT' 'Procurement' 'Legal' 'Legal' 'Finance' 'Procurement' 'R&D'\n",
      " 'Sales' 'Operations' 'Admin' 'Marketing' 'Marketing' 'Admin' 'Sales'\n",
      " 'R&D' 'HR' 'Marketing' 'IT' 'IT' 'Legal' 'Finance' 'Operations' 'Finance'\n",
      " 'Admin' 'Finance' 'HR' 'Marketing' 'Admin' 'Finance' 'Legal' 'Admin'\n",
      " 'Procurement' 'Marketing' 'Admin' 'Admin' 'Finance' 'Admin' 'Finance'\n",
      " 'Operations' 'Marketing' 'Operations' 'Marketing' 'Finance' 'Admin'\n",
      " 'Admin' 'Procurement' 'IT' 'Marketing' 'Legal' 'IT' 'Legal' 'Legal'\n",
      " 'Marketing' 'Admin' 'Admin' 'Procurement' 'Admin' 'Procurement' 'Legal'\n",
      " 'Admin' 'Admin' 'Admin' 'Procurement' 'Legal' 'IT' 'Legal' 'IT'\n",
      " 'Operations' 'R&D' 'Marketing' 'Marketing' 'Finance' 'Marketing' 'Admin'\n",
      " 'HR' 'Operations' 'Operations' 'Operations' 'Finance' 'IT' 'Sales'\n",
      " 'Finance' 'Admin' 'HR' 'Operations' 'Operations' 'Sales' 'Finance' 'IT'\n",
      " 'Finance' 'Marketing' 'Finance' 'Procurement' 'HR' 'HR' 'Sales' 'Finance'\n",
      " 'Legal' 'HR' 'Legal' 'Marketing' 'R&D' 'Admin' 'Procurement' 'Legal'\n",
      " 'Finance' 'Admin' 'Operations' 'Finance' 'Legal' 'Operations' 'Sales'\n",
      " 'Admin' 'Legal' 'Marketing' 'Operations' 'Sales' 'R&D' 'R&D' 'Operations'\n",
      " 'IT' 'Procurement' 'Finance' 'Sales' 'Finance' 'Procurement' 'Operations'\n",
      " 'R&D' 'Operations' 'IT' 'Procurement' 'Admin' 'Operations' 'Operations'\n",
      " 'Admin' 'Finance' 'HR' 'IT']\n"
     ]
    }
   ],
   "source": [
    "\n",
    "example=['IT','HR','Finance','Marketing','Sales','Operations','R&D','Legal','Procurement','Admin']# example list\n",
    "Department=(np.random.choice(example,1000))# department\n",
    "print(Department)"
   ]
  },
  {
   "cell_type": "code",
   "execution_count": 8,
   "metadata": {},
   "outputs": [],
   "source": [
    "Salary=np.random.randint(10000,100000,1000)# salary"
   ]
  },
  {
   "cell_type": "code",
   "execution_count": 9,
   "metadata": {},
   "outputs": [
    {
     "name": "stdout",
     "output_type": "stream",
     "text": [
      "['2/4/2015', '28/7/2021', '3/4/2012', '1/5/2017', '6/6/2019', '8/2/2019', '13/6/2012', '18/8/2015', '11/7/2008', '24/8/2022', '27/3/2011', '9/3/2010', '15/6/2017', '25/5/2020', '23/7/2021', '19/10/2008', '1/3/2017', '28/2/2012', '3/11/2009', '12/5/2010', '4/2/2008', '29/1/2014', '19/9/2013', '29/9/2017', '6/11/2009', '20/2/2014', '10/10/2011', '29/10/2010', '27/1/2020', '13/10/2008', '1/5/2008', '8/7/2022', '21/9/2009', '19/7/2022', '8/5/2019', '27/8/2009', '18/11/2018', '21/3/2009', '4/7/2022', '18/6/2008', '5/11/2016', '17/10/2019', '13/4/2015', '29/1/2020', '17/10/2011', '12/10/2020', '19/1/2020', '12/8/2011', '21/1/2019', '30/3/2011', '21/8/2011', '14/3/2014', '23/9/2018', '12/11/2018', '16/3/2014', '17/4/2021', '7/5/2018', '5/8/2021', '11/6/2019', '21/3/2011', '30/10/2016', '27/4/2014', '1/2/2017', '23/9/2009', '21/7/2010', '21/1/2008', '18/6/2019', '20/7/2014', '24/2/2009', '20/6/2018', '14/9/2015', '7/4/2012', '15/11/2017', '12/1/2009', '21/10/2011', '23/5/2020', '25/3/2017', '19/11/2017', '20/10/2017', '6/5/2013', '16/6/2022', '12/9/2013', '16/1/2012', '22/4/2022', '29/3/2017', '26/9/2015', '7/1/2020', '20/10/2022', '25/7/2013', '30/2/2011', '4/7/2020', '10/6/2010', '13/8/2015', '23/6/2017', '6/8/2013', '21/8/2013', '2/10/2009', '26/9/2015', '17/6/2010', '30/9/2010', '18/10/2021', '11/11/2018', '27/8/2018', '12/10/2021', '12/4/2019', '26/3/2014', '4/11/2021', '18/3/2022', '18/9/2010', '16/6/2011', '18/9/2015', '9/1/2019', '11/10/2011', '19/3/2008', '18/1/2018', '10/8/2014', '25/5/2016', '9/11/2013', '18/10/2009', '12/5/2014', '26/7/2017', '1/2/2012', '9/11/2009', '29/3/2016', '8/11/2010', '27/3/2016', '16/9/2013', '30/9/2008', '2/6/2021', '13/7/2018', '12/3/2008', '16/6/2013', '7/2/2008', '30/11/2022', '27/8/2022', '16/3/2020', '20/6/2018', '25/6/2017', '16/11/2010', '21/1/2013', '14/2/2012', '22/7/2018', '17/4/2017', '18/10/2013', '24/1/2022', '19/11/2022', '4/10/2018', '27/4/2019', '18/3/2008', '17/11/2014', '5/8/2021', '24/7/2020', '9/8/2011', '24/1/2008', '1/6/2011', '5/10/2020', '22/5/2018', '16/4/2016', '30/6/2017', '22/1/2013', '5/4/2014', '25/8/2008', '13/11/2017', '9/5/2013', '5/5/2016', '19/3/2019', '23/11/2022', '13/5/2019', '5/5/2012', '12/9/2015', '26/6/2014', '30/7/2019', '16/1/2011', '28/3/2009', '21/7/2016', '14/7/2011', '10/8/2008', '16/2/2008', '21/11/2018', '14/6/2011', '21/8/2013', '3/8/2020', '16/8/2018', '3/1/2009', '13/4/2014', '19/7/2019', '22/10/2016', '17/8/2018', '20/4/2014', '11/2/2015', '25/8/2018', '23/8/2018', '5/5/2016', '19/2/2016', '21/8/2011', '30/10/2008', '9/10/2020', '29/8/2011', '28/2/2011', '11/8/2021', '17/5/2020', '2/3/2018', '2/7/2010', '30/5/2012', '2/4/2016', '18/5/2008', '24/7/2018', '11/3/2016', '29/10/2022', '6/11/2019', '20/2/2019', '7/3/2017', '29/3/2014', '4/8/2013', '20/3/2013', '12/11/2014', '22/2/2020', '2/1/2015', '16/11/2018', '19/9/2010', '18/9/2019', '11/1/2008', '28/2/2015', '6/10/2008', '8/5/2017', '5/9/2013', '22/2/2011', '21/1/2008', '9/10/2012', '3/9/2012', '17/1/2009', '21/9/2015', '4/6/2014', '22/3/2010', '21/9/2021', '10/7/2011', '24/4/2016', '13/3/2021', '13/3/2008', '9/1/2019', '9/10/2008', '8/9/2020', '23/1/2012', '7/5/2010', '26/11/2008', '8/6/2018', '22/8/2019', '15/11/2012', '11/11/2022', '10/7/2017', '24/3/2016', '9/7/2010', '25/10/2011', '14/2/2020', '12/3/2022', '13/10/2009', '17/3/2016', '29/10/2013', '4/10/2013', '14/7/2015', '22/2/2017', '28/11/2011', '29/7/2011', '11/5/2015', '20/5/2018', '6/9/2009', '4/6/2015', '16/6/2009', '1/7/2017', '11/5/2009', '6/1/2017', '14/4/2018', '3/4/2018', '15/5/2010', '29/5/2017', '28/7/2014', '16/5/2019', '10/7/2020', '28/11/2018', '4/2/2018', '19/2/2010', '22/3/2011', '26/2/2015', '18/8/2013', '17/4/2022', '5/9/2015', '9/11/2018', '19/11/2012', '6/7/2009', '8/4/2015', '7/2/2014', '6/11/2014', '11/1/2013', '15/9/2014', '22/7/2011', '19/8/2017', '6/8/2016', '29/10/2015', '30/7/2020', '19/11/2022', '2/2/2021', '28/5/2020', '4/7/2020', '6/4/2010', '29/5/2014', '10/10/2014', '3/6/2020', '16/2/2022', '20/5/2008', '28/7/2020', '15/9/2021', '26/3/2016', '22/1/2017', '26/10/2008', '25/1/2018', '19/7/2008', '26/4/2014', '5/4/2008', '12/10/2015', '9/6/2014', '13/8/2015', '27/4/2010', '28/11/2018', '21/11/2014', '4/10/2012', '3/11/2013', '5/8/2010', '15/10/2008', '16/6/2021', '8/4/2009', '13/9/2020', '7/1/2009', '12/9/2021', '30/2/2017', '24/6/2016', '21/2/2014', '20/3/2020', '25/1/2009', '30/5/2013', '15/9/2018', '26/1/2014', '15/8/2018', '4/8/2020', '3/4/2019', '19/1/2015', '25/10/2010', '14/3/2014', '1/10/2008', '14/8/2019', '8/5/2009', '23/4/2012', '20/6/2021', '22/6/2017', '9/1/2014', '19/3/2008', '17/2/2008', '5/8/2013', '14/10/2009', '5/5/2011', '23/3/2013', '1/5/2021', '12/10/2008', '6/8/2009', '2/10/2016', '13/5/2022', '1/9/2008', '3/10/2013', '8/1/2014', '25/4/2012', '29/6/2009', '11/1/2010', '3/6/2020', '4/5/2010', '16/7/2015', '10/2/2016', '26/9/2018', '26/9/2009', '13/8/2015', '5/11/2016', '23/10/2020', '14/4/2015', '27/1/2021', '18/7/2012', '19/10/2014', '19/6/2008', '11/11/2022', '6/9/2020', '1/4/2012', '27/1/2017', '3/10/2022', '10/5/2017', '7/3/2011', '14/6/2014', '30/7/2009', '18/8/2021', '21/11/2016', '17/9/2017', '12/8/2018', '19/4/2014', '5/4/2011', '6/3/2022', '24/3/2009', '24/8/2011', '7/4/2019', '4/7/2013', '18/11/2022', '22/8/2013', '19/2/2022', '16/11/2014', '9/1/2011', '16/11/2022', '22/2/2014', '9/1/2010', '4/11/2015', '20/5/2009', '6/11/2011', '30/7/2013', '27/10/2008', '4/8/2020', '19/9/2022', '20/9/2012', '6/4/2021', '26/1/2019', '8/4/2019', '10/3/2016', '1/1/2021', '21/5/2009', '23/11/2013', '5/9/2018', '25/1/2011', '18/3/2021', '20/4/2014', '8/11/2008', '11/5/2009', '1/9/2013', '19/8/2019', '26/9/2022', '17/4/2011', '10/5/2014', '16/4/2019', '9/1/2016', '14/4/2012', '11/7/2020', '16/9/2015', '16/10/2014', '11/6/2008', '14/2/2016', '5/5/2020', '29/9/2017', '19/2/2008', '5/2/2010', '12/4/2013', '26/9/2013', '18/7/2012', '8/5/2021', '14/5/2017', '3/11/2014', '25/3/2009', '1/4/2013', '5/7/2009', '27/2/2008', '28/11/2010', '27/3/2016', '21/9/2008', '22/4/2015', '29/9/2008', '3/5/2015', '3/1/2016', '24/8/2012', '25/8/2019', '28/10/2008', '25/3/2018', '11/8/2014', '18/8/2011', '30/11/2014', '14/4/2019', '29/7/2016', '28/2/2008', '24/10/2011', '14/1/2008', '10/7/2012', '17/2/2019', '29/7/2017', '14/4/2011', '21/7/2009', '22/1/2008', '22/10/2017', '21/9/2018', '13/10/2021', '5/4/2014', '24/7/2022', '19/10/2015', '3/5/2010', '18/10/2013', '19/10/2008', '10/6/2017', '26/6/2020', '2/9/2019', '27/2/2019', '27/6/2018', '30/2/2012', '2/11/2015', '8/2/2015', '3/2/2016', '4/9/2010', '25/11/2012', '13/8/2010', '28/11/2012', '28/4/2017', '10/6/2021', '27/6/2015', '22/5/2016', '28/3/2015', '25/9/2013', '17/1/2011', '9/11/2013', '18/5/2019', '27/3/2013', '7/4/2012', '22/4/2020', '18/3/2017', '27/2/2008', '6/10/2017', '16/3/2008', '7/1/2020', '1/4/2011', '6/7/2012', '20/5/2019', '13/2/2015', '16/8/2010', '1/4/2019', '20/9/2016', '2/8/2015', '12/7/2020', '1/9/2014', '7/10/2022', '23/7/2019', '6/8/2021', '6/4/2008', '12/7/2010', '16/3/2009', '2/6/2010', '24/2/2012', '28/3/2010', '25/4/2020', '5/3/2012', '29/6/2020', '14/7/2020', '15/10/2009', '29/2/2009', '16/5/2009', '18/10/2014', '2/2/2010', '13/1/2018', '17/4/2021', '5/4/2020', '24/11/2020', '9/11/2012', '6/7/2014', '3/7/2012', '25/11/2016', '8/1/2016', '14/4/2010', '15/2/2012', '4/2/2020', '17/1/2012', '4/1/2013', '15/6/2021', '2/10/2022', '17/11/2009', '3/10/2018', '7/11/2019', '5/6/2015', '9/3/2012', '21/6/2015', '8/2/2009', '20/1/2020', '13/11/2011', '24/10/2010', '19/8/2012', '1/10/2018', '23/11/2013', '28/4/2011', '26/9/2019', '3/9/2011', '24/5/2016', '1/4/2013', '4/10/2012', '25/8/2013', '4/9/2011', '9/11/2009', '22/2/2009', '6/2/2014', '17/3/2016', '1/3/2008', '24/6/2015', '6/5/2016', '7/6/2008', '20/9/2022', '25/9/2022', '26/2/2009', '8/3/2009', '29/7/2008', '19/7/2016', '21/7/2021', '30/11/2009', '18/8/2020', '16/3/2014', '27/4/2010', '19/6/2008', '2/6/2021', '11/5/2016', '2/9/2022', '7/3/2019', '15/2/2008', '15/1/2019', '11/3/2011', '5/1/2020', '14/11/2020', '14/5/2010', '11/2/2010', '2/9/2018', '25/1/2009', '20/2/2017', '3/1/2013', '25/1/2018', '14/7/2018', '5/6/2021', '16/11/2019', '18/2/2019', '26/3/2011', '15/2/2021', '4/1/2018', '6/4/2020', '25/6/2009', '11/4/2012', '15/5/2017', '27/3/2010', '2/10/2018', '22/3/2020', '28/3/2010', '11/6/2018', '14/6/2022', '21/6/2019', '20/3/2011', '7/9/2009', '16/11/2012', '12/10/2009', '1/1/2010', '27/9/2017', '29/6/2015', '9/9/2016', '7/2/2011', '18/3/2015', '27/5/2022', '10/7/2014', '24/4/2017', '17/3/2015', '25/7/2019', '11/11/2009', '24/5/2018', '30/1/2017', '1/1/2017', '27/11/2022', '20/2/2018', '24/1/2020', '7/10/2019', '2/5/2008', '17/8/2017', '19/5/2016', '2/3/2011', '6/5/2014', '26/4/2017', '12/3/2019', '11/2/2017', '12/9/2012', '15/10/2011', '6/4/2012', '30/1/2015', '7/4/2014', '18/9/2021', '14/8/2014', '9/3/2013', '18/7/2013', '7/6/2021', '30/1/2020', '9/6/2020', '15/6/2015', '20/1/2015', '27/4/2012', '29/1/2019', '20/8/2014', '17/5/2015', '16/9/2019', '19/3/2017', '26/8/2012', '10/8/2017', '6/2/2017', '15/11/2009', '28/2/2017', '9/1/2011', '24/7/2020', '22/9/2022', '28/9/2019', '6/10/2016', '14/1/2015', '8/11/2021', '6/3/2016', '16/5/2021', '24/1/2012', '12/8/2010', '12/11/2012', '17/4/2019', '19/5/2013', '15/4/2021', '24/9/2008', '5/3/2009', '2/10/2018', '5/9/2022', '4/8/2014', '1/8/2014', '3/3/2021', '12/11/2009', '5/3/2011', '20/9/2013', '28/10/2018', '29/3/2011', '21/3/2011', '29/4/2011', '11/10/2011', '1/4/2013', '12/10/2010', '21/11/2010', '3/1/2020', '7/10/2009', '5/3/2017', '25/3/2015', '15/11/2020', '17/1/2011', '24/6/2008', '3/1/2017', '15/2/2017', '4/1/2019', '26/9/2019', '7/9/2016', '19/8/2020', '4/7/2016', '23/11/2020', '16/3/2014', '1/11/2021', '21/3/2019', '23/6/2020', '26/5/2015', '7/2/2016', '29/10/2015', '23/8/2014', '23/8/2020', '26/4/2010', '9/11/2020', '13/4/2010', '15/1/2008', '16/4/2013', '9/7/2016', '21/1/2008', '9/3/2013', '20/5/2009', '22/7/2013', '1/7/2014', '25/11/2009', '8/2/2012', '1/9/2016', '9/2/2021', '12/4/2022', '25/5/2018', '7/3/2019', '12/1/2020', '29/2/2008', '14/11/2018', '8/5/2022', '12/11/2012', '3/4/2011', '30/8/2013', '22/9/2012', '23/5/2017', '21/10/2008', '19/11/2009', '7/4/2010', '9/8/2008', '30/4/2019', '27/6/2011', '11/6/2011', '10/1/2009', '7/4/2019', '15/3/2019', '11/5/2018', '4/1/2013', '5/1/2014', '7/6/2021', '10/9/2020', '4/1/2010', '2/9/2014', '16/11/2016', '9/2/2013', '27/7/2019', '2/7/2018', '22/3/2013', '17/8/2012', '21/1/2010', '24/9/2017', '2/9/2008', '17/4/2011', '20/10/2017', '6/4/2018', '10/7/2022', '29/2/2019', '5/11/2013', '30/5/2016', '28/3/2015', '17/3/2022', '30/8/2014', '30/8/2008', '9/10/2016', '25/2/2015', '10/10/2022', '13/10/2017', '20/3/2017', '27/7/2012', '15/1/2016', '8/1/2011', '5/11/2019', '12/4/2014', '13/6/2021', '10/11/2019', '3/1/2012', '18/7/2019', '1/11/2011', '2/1/2017', '5/1/2021', '24/9/2014', '10/4/2017', '20/10/2008', '7/10/2009', '2/2/2011', '9/5/2008', '5/5/2015', '12/11/2013', '28/2/2008', '17/9/2022', '3/5/2008', '27/7/2017', '13/8/2014', '2/11/2015', '15/11/2022', '17/8/2015', '27/2/2009', '10/4/2008', '26/5/2010', '30/8/2022', '3/1/2017', '29/10/2018', '17/8/2012', '18/3/2012', '10/9/2013', '3/1/2016', '29/10/2012', '9/8/2019', '17/2/2017', '25/9/2017', '13/9/2020', '10/7/2012', '9/7/2021', '24/2/2009', '25/2/2015', '3/11/2022', '24/3/2009', '3/10/2018', '28/6/2013', '25/8/2011', '1/1/2019', '27/2/2014', '8/6/2010', '21/3/2017', '22/9/2008', '2/6/2009', '10/10/2011', '6/8/2012', '1/10/2008', '1/3/2014', '3/11/2018', '11/10/2012', '25/5/2013', '25/11/2013', '28/1/2020', '28/7/2014', '1/4/2020', '11/4/2018', '3/8/2011', '8/6/2009', '14/10/2008', '23/10/2013', '29/2/2010', '28/8/2020', '23/6/2016', '27/11/2011', '28/9/2011', '26/6/2018', '25/9/2022', '20/3/2010', '12/8/2019', '6/3/2015', '24/3/2014', '11/5/2016', '1/7/2021', '1/6/2022', '17/5/2010', '7/9/2010', '21/1/2016', '30/8/2016', '8/9/2016', '10/3/2012', '3/4/2016', '22/2/2010', '2/5/2020', '7/2/2020', '7/6/2015', '17/4/2008', '7/2/2019', '18/7/2011', '21/4/2020', '23/7/2013', '5/6/2020', '30/5/2017', '8/7/2009', '8/3/2013', '6/8/2019', '30/2/2018', '14/6/2016', '23/6/2014', '23/2/2012', '1/1/2010', '29/2/2017', '30/5/2017', '1/4/2008', '27/2/2016', '28/7/2013', '13/10/2017', '1/1/2010', '30/7/2018', '13/6/2012', '15/4/2020', '9/3/2015', '11/1/2022', '10/7/2008', '8/6/2010', '25/3/2013', '26/4/2013', '24/11/2009', '20/11/2013', '30/6/2018', '28/2/2019', '29/3/2017', '1/1/2020', '5/2/2016', '3/10/2021', '3/2/2015', '27/10/2008', '15/5/2018', '17/11/2017', '6/1/2018', '27/10/2014', '11/9/2008', '19/10/2021', '24/6/2015', '9/2/2015', '12/8/2014', '11/1/2014', '22/11/2015', '16/5/2011', '3/3/2013', '22/9/2018', '19/5/2009', '20/6/2014', '22/7/2008', '20/6/2009', '17/11/2015', '26/5/2013', '26/3/2021', '13/9/2021', '12/11/2017', '16/6/2018', '28/9/2009', '17/1/2018', '28/10/2017', '20/9/2016', '10/1/2016', '28/10/2017', '19/8/2017', '22/6/2020', '12/7/2016', '25/9/2017']\n"
     ]
    }
   ],
   "source": [
    "joining_date=[]# empty list\n",
    "for i in range(1000):\n",
    "    joining_date.append(str(np.random.randint(1,31))+\"/\"+str(np.random.randint(1,12))+\"/\"+str(np.random.randint(2008,2023)))# joining date\n",
    "print(joining_date)"
   ]
  },
  {
   "cell_type": "code",
   "execution_count": 10,
   "metadata": {},
   "outputs": [],
   "source": [
    "Emp_data=pd.DataFrame({'EmployeeID':EmployeeID,'Employee_name':Employee_name,'Department':Department,'Salary':Salary,'joining_date':joining_date})# creating a dataframe    "
   ]
  },
  {
   "cell_type": "code",
   "execution_count": 11,
   "metadata": {},
   "outputs": [],
   "source": [
    "for i in range(1000):\n",
    "    r = np.random.randint(0,4)\n",
    "    l = np.random.randint(0,4)\n",
    "    probab = np.random.randint(1,10)\n",
    "    if probab == 1:\n",
    "        Emp_data.iloc[i,r] = np.nan\n",
    "        \n",
    "    \n",
    "\n",
    "    "
   ]
  },
  {
   "cell_type": "code",
   "execution_count": 12,
   "metadata": {},
   "outputs": [
    {
     "name": "stdout",
     "output_type": "stream",
     "text": [
      "EmployeeID       23\n",
      "Employee_name    32\n",
      "Department       29\n",
      "Salary           34\n",
      "joining_date      0\n",
      "dtype: int64\n"
     ]
    }
   ],
   "source": [
    "missing=Emp_data.isnull().sum()\n",
    "print(missing)"
   ]
  },
  {
   "cell_type": "code",
   "execution_count": 13,
   "metadata": {},
   "outputs": [],
   "source": [
    "totval=Emp_data.isnull().sum().sum()\n",
    "percenatge=(totval/1000)*100"
   ]
  },
  {
   "cell_type": "code",
   "execution_count": 14,
   "metadata": {},
   "outputs": [
    {
     "name": "stdout",
     "output_type": "stream",
     "text": [
      "11.799999999999999\n"
     ]
    }
   ],
   "source": [
    "print(percenatge)"
   ]
  },
  {
   "cell_type": "code",
   "execution_count": null,
   "metadata": {},
   "outputs": [],
   "source": []
  }
 ],
 "metadata": {
  "kernelspec": {
   "display_name": "Python 3",
   "language": "python",
   "name": "python3"
  },
  "language_info": {
   "codemirror_mode": {
    "name": "ipython",
    "version": 3
   },
   "file_extension": ".py",
   "mimetype": "text/x-python",
   "name": "python",
   "nbconvert_exporter": "python",
   "pygments_lexer": "ipython3",
   "version": "3.10.12"
  }
 },
 "nbformat": 4,
 "nbformat_minor": 2
}
