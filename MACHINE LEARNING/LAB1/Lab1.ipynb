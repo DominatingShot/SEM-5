{
 "cells": [
  {
   "cell_type": "markdown",
   "id": "c7f9d7a6-973a-48c1-9cf5-629820e78eed",
   "metadata": {},
   "source": [
    "## Implement exercise 2.2, 2.3"
   ]
  },
  {
   "cell_type": "code",
   "execution_count": 6,
   "id": "58877011-45f2-45b2-81ff-19588418591d",
   "metadata": {},
   "outputs": [
    {
     "name": "stdout",
     "output_type": "stream",
     "text": [
      "8.5\n",
      "8.5\n",
      "4.0\n",
      "11\n"
     ]
    },
    {
     "data": {
      "text/plain": [
       "'.....'"
      ]
     },
     "execution_count": 6,
     "metadata": {},
     "output_type": "execute_result"
    }
   ],
   "source": [
    "width = 17\n",
    "height = 12.0\n",
    "delimiter = '.'\n",
    "width/2\n",
    "width/2.0\n",
    "height/3\n",
    "1 + 2 * 5\n",
    "delimiter * 5\n",
    "print(width/2)\n",
    "print(width/2.0)\n",
    "print(height/3)\n",
    "print(1 + 2 * 5)\n",
    "delimiter * 5"
   ]
  },
  {
   "cell_type": "code",
   "execution_count": 10,
   "id": "7e6cff7a-2407-4735-9329-0e2cfc891d95",
   "metadata": {},
   "outputs": [
    {
     "name": "stdout",
     "output_type": "stream",
     "text": [
      "104.66666666666667\n"
     ]
    }
   ],
   "source": [
    "r = 5\n",
    "v = 4/3*3.14*r*r\n",
    "print(v)"
   ]
  },
  {
   "cell_type": "code",
   "execution_count": 11,
   "id": "a818fddc-45a9-420a-83f7-5ca58f250d68",
   "metadata": {},
   "outputs": [
    {
     "name": "stdout",
     "output_type": "stream",
     "text": [
      "945.4499999999999\n"
     ]
    }
   ],
   "source": [
    "p = 24.95  \n",
    "d = 0.4 \n",
    "s1 = 3.0  \n",
    "s2 = 0.75 \n",
    "c = 60  \n",
    "tc = c * p\n",
    "tsc = s1 + (c - 1) * s2\n",
    "twc = tc * (1 - d) + tsc\n",
    "print(twc)"
   ]
  }
 ],
 "metadata": {
  "kernelspec": {
   "display_name": "Python 3 (ipykernel)",
   "language": "python",
   "name": "python3"
  },
  "language_info": {
   "codemirror_mode": {
    "name": "ipython",
    "version": 3
   },
   "file_extension": ".py",
   "mimetype": "text/x-python",
   "name": "python",
   "nbconvert_exporter": "python",
   "pygments_lexer": "ipython3",
   "version": "3.11.5"
  }
 },
 "nbformat": 4,
 "nbformat_minor": 5
}
