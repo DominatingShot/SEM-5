{
 "cells": [
  {
   "cell_type": "markdown",
   "id": "1a53f680-745b-4e32-bc9e-c3f08696c308",
   "metadata": {},
   "source": [
    "1. Create two vectors using NumPy and check how many values are equal in the two vectors. \r\n",
    "Example \r\n",
    " V1 = [1 6 7 9] \r\n",
    " V2 = [1 0 6 9] \r\n",
    " Here, the output should be 2. \r\n",
    "(Use np. sum(V)1==V2"
   ]
  },
  {
   "cell_type": "code",
   "execution_count": 4,
   "id": "4617b50e-a047-4e10-af1b-f863caa287bb",
   "metadata": {},
   "outputs": [
    {
     "name": "stdout",
     "output_type": "stream",
     "text": [
      "Number of equal values: 2\n"
     ]
    }
   ],
   "source": [
    "import numpy as np\n",
    "\n",
    "V1 = np.array([1, 6, 7, 9])\n",
    "V2 = np.array([1, 0, 6, 9])\n",
    "\n",
    "equal_count = np.sum(V1 == V2)\n",
    "\n",
    "print(\"Number of equal values:\", equal_count)\n"
   ]
  },
  {
   "cell_type": "markdown",
   "id": "d44533fe-0077-426d-8dc7-1c6595892d12",
   "metadata": {},
   "source": [
    "2. Matrix creation using NumPy \r\n",
    " \r\n",
    "a. Create a matrix M with 10 rows and 3 columns and populate with random \r\n",
    "value\n",
    "b. Print size of M. (M.shape) \r\n",
    "c. Print only the number of rows of M(M.shape[0]) \r\n",
    "d. Print only the number of columns of M \r\n",
    "e. Write a simple loop to modify the third column as follows: If the sum of the \r\n",
    "first two columns is divisible by 4, Y should be 1 else, 0. \r",
    "s. "
   ]
  },
  {
   "cell_type": "code",
   "execution_count": 3,
   "id": "38c01004-a345-4ac1-aa83-00a1ca786e96",
   "metadata": {},
   "outputs": [
    {
     "name": "stdout",
     "output_type": "stream",
     "text": [
      "Matrix M:\n",
      "[[88 32 59]\n",
      " [32 54 35]\n",
      " [14 94 85]\n",
      " [46 41  1]\n",
      " [16 30  2]\n",
      " [22  5 25]\n",
      " [48 30 88]\n",
      " [31 57  8]\n",
      " [27 40  8]\n",
      " [82 22 66]]\n",
      "Size of M: (10, 3)\n",
      "Number of rows in M: 10\n",
      "Number of columns in M: 3\n",
      "Modified Matrix M:\n",
      "[[88 32  1]\n",
      " [32 54  0]\n",
      " [14 94  1]\n",
      " [46 41  0]\n",
      " [16 30  0]\n",
      " [22  5  0]\n",
      " [48 30  0]\n",
      " [31 57  1]\n",
      " [27 40  0]\n",
      " [82 22  1]]\n"
     ]
    }
   ],
   "source": [
    "import numpy as np\n",
    "\n",
    "M = np.random.randint(0, 100, size=(10, 3))\n",
    "\n",
    "print(\"Matrix M:\")\n",
    "print(M)\n",
    "\n",
    "print(\"Size of M:\", M.shape)\n",
    "\n",
    "print(\"Number of rows in M:\", M.shape[0])\n",
    "\n",
    "print(\"Number of columns in M:\", M.shape[1])\n",
    "\n",
    "for row in M:\n",
    "    if (row[0] + row[1]) % 4 == 0:\n",
    "        row[2] = 1\n",
    "    else:\n",
    "        row[2] = 0\n",
    "        \n",
    "print(\"Modified Matrix M:\")\n",
    "print(M)"
   ]
  },
  {
   "cell_type": "markdown",
   "id": "f2478277-ff90-4829-84c9-d92759186a8f",
   "metadata": {},
   "source": [
    "3. Create pandas dataframe ‘df’ from the created matrix M and name the columns as X1, \r\n",
    "X2, and Y. (Refer Lab1) "
   ]
  },
  {
   "cell_type": "code",
   "execution_count": 5,
   "id": "aa318bbc-cb4e-4aeb-a170-30d2a4423420",
   "metadata": {},
   "outputs": [
    {
     "name": "stdout",
     "output_type": "stream",
     "text": [
      "   X1  X2  Y\n",
      "0  88  32  1\n",
      "1  32  54  0\n",
      "2  14  94  1\n",
      "3  46  41  0\n",
      "4  16  30  0\n",
      "5  22   5  0\n",
      "6  48  30  0\n",
      "7  31  57  1\n",
      "8  27  40  0\n",
      "9  82  22  1\n"
     ]
    }
   ],
   "source": [
    "import pandas as pd\n",
    "df = pd.DataFrame(M, columns=['X1', 'X2', 'Y'])\n",
    "print(df)"
   ]
  },
  {
   "cell_type": "markdown",
   "id": "5b4ad047-0f62-4cb4-8eac-e2c7694ee34f",
   "metadata": {},
   "source": [
    "4. Plot X1 and X2 using scatter plot. Color (X1, X2) red if the corresponding Y is 1 else, blue. \r\n",
    "col = df.Y.map({0:'b', 1:'r'}) #df is the dataframe you created for Q.3 \r\n",
    "df.plot.scatter(x='X1', y='X2', c=col) \r\n",
    "plt.show() "
   ]
  },
  {
   "cell_type": "code",
   "execution_count": 6,
   "id": "1c796e28-c21d-4df7-a735-5762aeac2eab",
   "metadata": {},
   "outputs": [
    {
     "data": {
      "image/png": "[encoded data removed]",
      "text/plain": [
       "<Figure size 640x480 with 1 Axes>"
      ]
     },
     "metadata": {},
     "output_type": "display_data"
    }
   ],
   "source": [
    "import pandas as pd\n",
    "import matplotlib.pyplot as plt\n",
    "\n",
    "col = df['Y'].map({0: 'b', 1: 'r'})\n",
    "\n",
    "df.plot.scatter(x='X1', y='X2', c=col)\n",
    "\n",
    "plt.show()"
   ]
  },
  {
   "cell_type": "markdown",
   "id": "c0972c85-4892-4cee-958f-42ea0215d331",
   "metadata": {},
   "source": [
    "5. \n",
    "a. For two columns X1, X2, find squared error: (x1 – x2)^2\n",
    " (Use np.square\r\n",
    " \r\n",
    " Example: Matrix M will he \r\n",
    " [1369 841 ….. 0] \r\n",
    "b. Find the sum of the squared eor. \r",
    " (Use \r\n",
    "np.sum) "
   ]
  },
  {
   "cell_type": "code",
   "execution_count": 11,
   "id": "11044f2f-60fe-41ca-a788-765235a125ba",
   "metadata": {},
   "outputs": [
    {
     "name": "stdout",
     "output_type": "stream",
     "text": [
      "Squared Error:\n",
      "0    3136\n",
      "1     484\n",
      "2    6400\n",
      "3      25\n",
      "4     196\n",
      "5     289\n",
      "6     324\n",
      "7     676\n",
      "8     169\n",
      "9    3600\n",
      "dtype: int32\n",
      "Sum of Squared Error: 15299\n"
     ]
    }
   ],
   "source": [
    "import numpy as np\n",
    "\n",
    "squared_error = np.square(df['X1'] - df['X2'])\n",
    "sum_squared_error = np.sum(squared_error)\n",
    "\n",
    "print(\"Squared Error:\")\n",
    "print(squared_error)\n",
    "\n",
    "print(\"Sum of Squared Error:\", sum_squared_error)"
   ]
  },
  {
   "cell_type": "markdown",
   "id": "523771cc-a618-48cf-9736-8f7293bdfb04",
   "metadata": {},
   "source": [
    "6. Find Euclidean distance between the first two rows of matrix M. \r\n",
    "Compare the result with the inbuilt function numpy.linalg.norm(a-b), where a is the first \r\n",
    "row and b is the second row. "
   ]
  },
  {
   "cell_type": "code",
   "execution_count": 12,
   "id": "a0b666c1-f75c-4828-aa03-a522837de37c",
   "metadata": {},
   "outputs": [
    {
     "name": "stdout",
     "output_type": "stream",
     "text": [
      "Euclidean Distance (Manual): 60.174745533321534\n",
      "Euclidean Distance (numpy.linalg.norm): 60.174745533321534\n"
     ]
    }
   ],
   "source": [
    "import numpy as np\n",
    "row_a = M[0]\n",
    "row_b = M[1]\n",
    "\n",
    "euclidean_distance_manual = np.sqrt(np.sum((row_a - row_b) ** 2))\n",
    "euclidean_distance_builtin = np.linalg.norm(row_a - row_b)\n",
    "\n",
    "print(\"Euclidean Distance (Manual):\", euclidean_distance_manual)\n",
    "print(\"Euclidean Distance (numpy.linalg.norm):\", euclidean_distance_builtin)\n"
   ]
  },
  {
   "cell_type": "markdown",
   "id": "ea4c343e-87c5-44fc-baf8-dfbce21e69c0",
   "metadata": {},
   "source": [
    "7. Create a vector V with two random values. Find the Euclidean distance between each row \r\n",
    "of M with V. Store the distance in a vector and print. "
   ]
  },
  {
   "cell_type": "code",
   "execution_count": 15,
   "id": "7a626bcd-6de8-4297-a04b-2b5632d911b6",
   "metadata": {},
   "outputs": [
    {
     "name": "stdout",
     "output_type": "stream",
     "text": [
      "Vector V: [0.71392554 0.57711196]\n",
      "Euclidean Distances to Vector V:\n",
      "[92.76991261 61.90980069 94.36289411 60.70286992 33.15675516 21.74071996\n",
      " 55.69272105 64.03740001 47.38271638 84.06167993]\n"
     ]
    }
   ],
   "source": [
    "#Euclidean distance between the first two columns of each row of matrix 'M' and a vector 'V' with two random values\n",
    "import numpy as np\n",
    "V = np.random.rand(2)\n",
    "distances = []\n",
    "for row in M:\n",
    "    distance = np.linalg.norm(row[:2] - V)\n",
    "    distances.append(distance)\n",
    "distances = np.array(distances)\n",
    "print(\"Vector V:\", V)\n",
    "print(\"Euclidean Distances to Vector V:\")\n",
    "print(distances)"
   ]
  },
  {
   "cell_type": "markdown",
   "id": "bcbc1c62-b09b-4c10-987c-a66e3f99d98c",
   "metadata": {},
   "source": [
    "8. Create a matrix A with 10 rows and 2 columns. Add a new column to a matrix. (Use \n",
    "np.column_stack). Add a new row to a matrix(Use np.vstack) "
   ]
  },
  {
   "cell_type": "code",
   "execution_count": 16,
   "id": "6194a629-a586-49b0-8198-14639873958f",
   "metadata": {},
   "outputs": [
    {
     "name": "stdout",
     "output_type": "stream",
     "text": [
      "[[1 2 3]\n",
      " [2 3 4]]\n",
      "[[1 2 3 6]\n",
      " [2 3 4 7]]\n",
      "[[1 2 3 6]\n",
      " [2 3 4 7]\n",
      " [1 1 1 1]]\n"
     ]
    }
   ],
   "source": [
    "import numpy as np\n",
    "\n",
    "A=np.array([[1,2,3],[2,3,4]]) \n",
    "print(A) \n",
    "\n",
    "C=np.array([6,7]) \n",
    "A=np.column_stack((A,C)) \n",
    "\n",
    "print(A) \n",
    "\n",
    "R=np.array([1,1,1,1]) \n",
    "A=np.vstack((A,R)) \n",
    "print(A) "
   ]
  },
  {
   "cell_type": "markdown",
   "id": "00b54bcb-e1aa-4882-be6f-b235ff5932f9",
   "metadata": {},
   "source": []
  },
  {
   "cell_type": "code",
   "execution_count": 17,
   "id": "424ab4a0-ae5c-4a8c-8041-9fa40db9f38e",
   "metadata": {},
   "outputs": [
    {
     "name": "stdout",
     "output_type": "stream",
     "text": [
      "Dist Matrix:\n",
      "[[0.         0.         0.81957609]\n",
      " [0.         1.         0.58855381]\n",
      " [0.         2.         0.52400223]\n",
      " [0.         3.         0.9159566 ]\n",
      " [0.         4.         0.25524244]\n",
      " [0.         5.         0.53020692]\n",
      " [0.         6.         0.77562078]\n",
      " [0.         7.         0.83354621]\n",
      " [0.         8.         0.95103633]\n",
      " [0.         9.         0.90861174]\n",
      " [1.         0.         0.57118466]\n",
      " [1.         1.         0.62625854]\n",
      " [1.         2.         0.20642861]\n",
      " [1.         3.         0.5675233 ]\n",
      " [1.         4.         0.49721627]\n",
      " [1.         5.         0.2074502 ]\n",
      " [1.         6.         0.14524432]\n",
      " [1.         7.         0.45928645]\n",
      " [1.         8.         0.33802844]\n",
      " [1.         9.         0.26315248]\n",
      " [2.         0.         0.58121392]\n",
      " [2.         1.         0.46303157]\n",
      " [2.         2.         0.15513332]\n",
      " [2.         3.         0.68562032]\n",
      " [2.         4.         0.16937412]\n",
      " [2.         5.         0.15915332]\n",
      " [2.         6.         0.4093878 ]\n",
      " [2.         7.         0.58103762]\n",
      " [2.         8.         0.59769147]\n",
      " [2.         9.         0.56464296]\n",
      " [3.         0.         0.60694884]\n",
      " [3.         1.         0.71519885]\n",
      " [3.         2.         0.34737746]\n",
      " [3.         3.         0.59963395]\n",
      " [3.         4.         0.6380964 ]\n",
      " [3.         5.         0.34457299]\n",
      " [3.         6.         0.16860774]\n",
      " [3.         7.         0.50202125]\n",
      " [3.         8.         0.27836613]\n",
      " [3.         9.         0.22737737]\n",
      " [4.         0.         0.52622759]\n",
      " [4.         1.         0.53345431]\n",
      " [4.         2.         0.09472403]\n",
      " [4.         3.         0.60705191]\n",
      " [4.         4.         0.39040988]\n",
      " [4.         5.         0.08672733]\n",
      " [4.         6.         0.18604291]\n",
      " [4.         7.         0.49541327]\n",
      " [4.         8.         0.39040823]\n",
      " [4.         9.         0.3640963 ]\n",
      " [5.         0.         0.65125507]\n",
      " [5.         1.         0.7329212 ]\n",
      " [5.         2.         0.31273821]\n",
      " [5.         3.         0.5272207 ]\n",
      " [5.         4.         0.59274977]\n",
      " [5.         5.         0.31985218]\n",
      " [5.         6.         0.20634593]\n",
      " [5.         7.         0.42769949]\n",
      " [5.         8.         0.34916781]\n",
      " [5.         9.         0.16962417]\n",
      " [6.         0.         0.29560465]\n",
      " [6.         1.         0.53540888]\n",
      " [6.         2.         0.54493232]\n",
      " [6.         3.         1.00189714]\n",
      " [6.         4.         0.80617032]\n",
      " [6.         5.         0.50641728]\n",
      " [6.         6.         0.30033132]\n",
      " [6.         7.         0.89782726]\n",
      " [6.         8.         0.14081518]\n",
      " [6.         9.         0.63836553]\n",
      " [7.         0.         0.97839514]\n",
      " [7.         1.         0.99305571]\n",
      " [7.         2.         0.47536532]\n",
      " [7.         3.         0.16820259]\n",
      " [7.         4.         0.62000896]\n",
      " [7.         5.         0.51409967]\n",
      " [7.         6.         0.54894524]\n",
      " [7.         7.         0.08974707]\n",
      " [7.         8.         0.70912848]\n",
      " [7.         9.         0.22322632]\n",
      " [8.         0.         0.26052827]\n",
      " [8.         1.         0.50357229]\n",
      " [8.         2.         0.54121121]\n",
      " [8.         3.         1.01588674]\n",
      " [8.         4.         0.79486963]\n",
      " [8.         5.         0.50097059]\n",
      " [8.         6.         0.30888283]\n",
      " [8.         7.         0.91049451]\n",
      " [8.         8.         0.16847087]\n",
      " [8.         9.         0.65792526]\n",
      " [9.         0.         0.43357204]\n",
      " [9.         1.         0.54724841]\n",
      " [9.         2.         0.29545758]\n",
      " [9.         3.         0.72763399]\n",
      " [9.         4.         0.58550396]\n",
      " [9.         5.         0.26926773]\n",
      " [9.         6.         0.01960871]\n",
      " [9.         7.         0.62098948]\n",
      " [9.         8.         0.18642861]\n",
      " [9.         9.         0.3885319 ]]\n"
     ]
    }
   ],
   "source": [
    "import numpy as np\n",
    "M = np.random.rand(10, 2)\n",
    "M_prime = np.random.rand(10, 2)\n",
    "distances = []\n",
    "for i, row_m in enumerate(M):\n",
    "    for j, row_m_prime in enumerate(M_prime):\n",
    "        distance = np.linalg.norm(row_m - row_m_prime)\n",
    "        distances.append([i, j, distance])\n",
    "        \n",
    "Dist = np.array(distances)\n",
    "print(\"Dist Matrix:\")\n",
    "print(Dist)"
   ]
  },
  {
   "cell_type": "code",
   "execution_count": 19,
   "id": "2db9aa4f-9eb5-4b7c-a5e9-eec205954b9e",
   "metadata": {},
   "outputs": [
    {
     "name": "stdout",
     "output_type": "stream",
     "text": [
      "Scikit-learn Distances:\n",
      "[[0.81957609 0.58855381 0.52400223 0.9159566  0.25524244 0.53020692\n",
      "  0.77562078 0.83354621 0.95103633 0.90861174]\n",
      " [0.57118466 0.62625854 0.20642861 0.5675233  0.49721627 0.2074502\n",
      "  0.14524432 0.45928645 0.33802844 0.26315248]\n",
      " [0.58121392 0.46303157 0.15513332 0.68562032 0.16937412 0.15915332\n",
      "  0.4093878  0.58103762 0.59769147 0.56464296]\n",
      " [0.60694884 0.71519885 0.34737746 0.59963395 0.6380964  0.34457299\n",
      "  0.16860774 0.50202125 0.27836613 0.22737737]\n",
      " [0.52622759 0.53345431 0.09472403 0.60705191 0.39040988 0.08672733\n",
      "  0.18604291 0.49541327 0.39040823 0.3640963 ]\n",
      " [0.65125507 0.7329212  0.31273821 0.5272207  0.59274977 0.31985218\n",
      "  0.20634593 0.42769949 0.34916781 0.16962417]\n",
      " [0.29560465 0.53540888 0.54493232 1.00189714 0.80617032 0.50641728\n",
      "  0.30033132 0.89782726 0.14081518 0.63836553]\n",
      " [0.97839514 0.99305571 0.47536532 0.16820259 0.62000896 0.51409967\n",
      "  0.54894524 0.08974707 0.70912848 0.22322632]\n",
      " [0.26052827 0.50357229 0.54121121 1.01588674 0.79486963 0.50097059\n",
      "  0.30888283 0.91049451 0.16847087 0.65792526]\n",
      " [0.43357204 0.54724841 0.29545758 0.72763399 0.58550396 0.26926773\n",
      "  0.01960871 0.62098948 0.18642861 0.3885319 ]]\n"
     ]
    }
   ],
   "source": [
    "from sklearn.metrics.pairwise import euclidean_distances\n",
    "sklearn_distances = euclidean_distances(M, M_prime)\n",
    "print(\"Scikit-learn Distances:\")\n",
    "print(sklearn_distances)"
   ]
  },
  {
   "cell_type": "markdown",
   "id": "d8ecafc5-cac1-480f-9fba-1a52037aebb0",
   "metadata": {},
   "source": [
    "10. Sort the Dist matrix based on the last column"
   ]
  },
  {
   "cell_type": "code",
   "execution_count": 21,
   "id": "df121752-5c43-470f-979f-9440fda40643",
   "metadata": {},
   "outputs": [
    {
     "name": "stdout",
     "output_type": "stream",
     "text": [
      "Sorted Dist Matrix:\n",
      "[[9.         6.         0.01960871]\n",
      " [4.         5.         0.08672733]\n",
      " [7.         7.         0.08974707]\n",
      " [4.         2.         0.09472403]\n",
      " [6.         8.         0.14081518]\n",
      " [1.         6.         0.14524432]\n",
      " [2.         2.         0.15513332]\n",
      " [2.         5.         0.15915332]\n",
      " [7.         3.         0.16820259]\n",
      " [8.         8.         0.16847087]\n",
      " [3.         6.         0.16860774]\n",
      " [2.         4.         0.16937412]\n",
      " [5.         9.         0.16962417]\n",
      " [4.         6.         0.18604291]\n",
      " [9.         8.         0.18642861]\n",
      " [5.         6.         0.20634593]\n",
      " [1.         2.         0.20642861]\n",
      " [1.         5.         0.2074502 ]\n",
      " [7.         9.         0.22322632]\n",
      " [3.         9.         0.22737737]\n",
      " [0.         4.         0.25524244]\n",
      " [8.         0.         0.26052827]\n",
      " [1.         9.         0.26315248]\n",
      " [9.         5.         0.26926773]\n",
      " [3.         8.         0.27836613]\n",
      " [9.         2.         0.29545758]\n",
      " [6.         0.         0.29560465]\n",
      " [6.         6.         0.30033132]\n",
      " [8.         6.         0.30888283]\n",
      " [5.         2.         0.31273821]\n",
      " [5.         5.         0.31985218]\n",
      " [1.         8.         0.33802844]\n",
      " [3.         5.         0.34457299]\n",
      " [3.         2.         0.34737746]\n",
      " [5.         8.         0.34916781]\n",
      " [4.         9.         0.3640963 ]\n",
      " [9.         9.         0.3885319 ]\n",
      " [4.         8.         0.39040823]\n",
      " [4.         4.         0.39040988]\n",
      " [2.         6.         0.4093878 ]\n",
      " [5.         7.         0.42769949]\n",
      " [9.         0.         0.43357204]\n",
      " [1.         7.         0.45928645]\n",
      " [2.         1.         0.46303157]\n",
      " [7.         2.         0.47536532]\n",
      " [4.         7.         0.49541327]\n",
      " [1.         4.         0.49721627]\n",
      " [8.         5.         0.50097059]\n",
      " [3.         7.         0.50202125]\n",
      " [8.         1.         0.50357229]\n",
      " [6.         5.         0.50641728]\n",
      " [7.         5.         0.51409967]\n",
      " [0.         2.         0.52400223]\n",
      " [4.         0.         0.52622759]\n",
      " [5.         3.         0.5272207 ]\n",
      " [0.         5.         0.53020692]\n",
      " [4.         1.         0.53345431]\n",
      " [6.         1.         0.53540888]\n",
      " [8.         2.         0.54121121]\n",
      " [6.         2.         0.54493232]\n",
      " [9.         1.         0.54724841]\n",
      " [7.         6.         0.54894524]\n",
      " [2.         9.         0.56464296]\n",
      " [1.         3.         0.5675233 ]\n",
      " [1.         0.         0.57118466]\n",
      " [2.         7.         0.58103762]\n",
      " [2.         0.         0.58121392]\n",
      " [9.         4.         0.58550396]\n",
      " [0.         1.         0.58855381]\n",
      " [5.         4.         0.59274977]\n",
      " [2.         8.         0.59769147]\n",
      " [3.         3.         0.59963395]\n",
      " [3.         0.         0.60694884]\n",
      " [4.         3.         0.60705191]\n",
      " [7.         4.         0.62000896]\n",
      " [9.         7.         0.62098948]\n",
      " [1.         1.         0.62625854]\n",
      " [3.         4.         0.6380964 ]\n",
      " [6.         9.         0.63836553]\n",
      " [5.         0.         0.65125507]\n",
      " [8.         9.         0.65792526]\n",
      " [2.         3.         0.68562032]\n",
      " [7.         8.         0.70912848]\n",
      " [3.         1.         0.71519885]\n",
      " [9.         3.         0.72763399]\n",
      " [5.         1.         0.7329212 ]\n",
      " [0.         6.         0.77562078]\n",
      " [8.         4.         0.79486963]\n",
      " [6.         4.         0.80617032]\n",
      " [0.         0.         0.81957609]\n",
      " [0.         7.         0.83354621]\n",
      " [6.         7.         0.89782726]\n",
      " [0.         9.         0.90861174]\n",
      " [8.         7.         0.91049451]\n",
      " [0.         3.         0.9159566 ]\n",
      " [0.         8.         0.95103633]\n",
      " [7.         0.         0.97839514]\n",
      " [7.         1.         0.99305571]\n",
      " [6.         3.         1.00189714]\n",
      " [8.         3.         1.01588674]]\n"
     ]
    }
   ],
   "source": [
    "sorted_indices = Dist[:, 2].argsort()\n",
    "sorted_Dist = Dist[sorted_indices]\n",
    "print(\"Sorted Dist Matrix:\")\n",
    "print(sorted_Dist)"
   ]
  },
  {
   "cell_type": "markdown",
   "id": "38ba3300-0997-437f-9b18-3009ef0d6d75",
   "metadata": {},
   "source": [
    "11. Get the initial k rows from the sorted matr"
   ]
  },
  {
   "cell_type": "code",
   "execution_count": 22,
   "id": "2d839635-097b-4fd8-9674-6ebefb9f2f2f",
   "metadata": {},
   "outputs": [
    {
     "name": "stdout",
     "output_type": "stream",
     "text": [
      "Initial 5 Rows:\n",
      "[[9.         6.         0.01960871]\n",
      " [4.         5.         0.08672733]\n",
      " [7.         7.         0.08974707]\n",
      " [4.         2.         0.09472403]\n",
      " [6.         8.         0.14081518]]\n"
     ]
    }
   ],
   "source": [
    "k = 5 \n",
    "initial_k_rows = sorted_Dist[:k]\n",
    "print(\"Initial\", k, \"Rows:\")\n",
    "print(initial_k_rows)"
   ]
  },
  {
   "cell_type": "markdown",
   "id": "8999486c-f634-40ab-a940-da44cd0511f7",
   "metadata": {},
   "source": [
    "12. Find the number of 1s and 0s in the k rows above. Print 1 if the number of 1s is more else, \r\n",
    "print 0. "
   ]
  },
  {
   "cell_type": "code",
   "execution_count": 30,
   "id": "68f3cd9e-7167-4c42-b94b-9ddc1a83576f",
   "metadata": {},
   "outputs": [
    {
     "name": "stdout",
     "output_type": "stream",
     "text": [
      "Result: 0\n"
     ]
    }
   ],
   "source": [
    "k = 8\n",
    "initial_k_rows = sorted_Dist[:k]\n",
    "#print(initial_k_rows[:, 2]==1)\n",
    "ones_count = (initial_k_rows[:, 2] == 1).sum()\n",
    "zeros_count = (initial_k_rows[:, 2] == 0).sum()\n",
    "\n",
    "if ones_count > zeros_count:\n",
    "    result = 1\n",
    "else:\n",
    "    result = 0\n",
    "\n",
    "print(\"Result:\", result)"
   ]
  },
  {
   "cell_type": "markdown",
   "id": "0af84a81-ff49-4093-a582-1e6c2cfb68dd",
   "metadata": {},
   "source": [
    "**PART B : KNN implementation**"
   ]
  },
  {
   "cell_type": "markdown",
   "id": "a0c10947-bb53-4d6b-9a73-c0fdde783f0c",
   "metadata": {},
   "source": [
    "a. Load diabetes dataset as done in Lab 1. "
   ]
  },
  {
   "cell_type": "code",
   "execution_count": 2,
   "id": "750da52b-91dd-4586-952b-626811e2bf27",
   "metadata": {},
   "outputs": [],
   "source": [
    "from sklearn import datasets\n",
    "\n",
    "diabetes = datasets.load_diabetes()\n",
    "X = diabetes.data\n",
    "y = diabetes.target"
   ]
  },
  {
   "cell_type": "markdown",
   "id": "6c2166ba-7404-473a-890c-e799455712c3",
   "metadata": {},
   "source": [
    "b. Peek at a few rows as done in Lab 1 "
   ]
  },
  {
   "cell_type": "code",
   "execution_count": 3,
   "id": "ff503e45-ab9e-44a5-ac92-1a366cab67eb",
   "metadata": {},
   "outputs": [
    {
     "name": "stdout",
     "output_type": "stream",
     "text": [
      "Peek at the first 5 rows of the dataset:\n",
      "[[ 0.03807591  0.05068012  0.06169621  0.02187239 -0.0442235  -0.03482076\n",
      "  -0.04340085 -0.00259226  0.01990749 -0.01764613]\n",
      " [-0.00188202 -0.04464164 -0.05147406 -0.02632753 -0.00844872 -0.01916334\n",
      "   0.07441156 -0.03949338 -0.06833155 -0.09220405]\n",
      " [ 0.08529891  0.05068012  0.04445121 -0.00567042 -0.04559945 -0.03419447\n",
      "  -0.03235593 -0.00259226  0.00286131 -0.02593034]\n",
      " [-0.08906294 -0.04464164 -0.01159501 -0.03665608  0.01219057  0.02499059\n",
      "  -0.03603757  0.03430886  0.02268774 -0.00936191]\n",
      " [ 0.00538306 -0.04464164 -0.03638469  0.02187239  0.00393485  0.01559614\n",
      "   0.00814208 -0.00259226 -0.03198764 -0.04664087]]\n",
      "[151.  75. 141. 206. 135.]\n"
     ]
    }
   ],
   "source": [
    "print(\"Peek at the first\", 5, \"rows of the dataset:\")\n",
    "print(X[:5])\n",
    "print(y[:5])"
   ]
  },
  {
   "cell_type": "markdown",
   "id": "9c857d51-67b2-4dcb-ac94-2a5c7c44e71a",
   "metadata": {},
   "source": [
    "c. Split the dataset into 80% training and 20% testing using numpy slicing. "
   ]
  },
  {
   "cell_type": "code",
   "execution_count": 4,
   "id": "631f755c-8ca2-45fe-a6f1-86ccb10df1ec",
   "metadata": {},
   "outputs": [
    {
     "name": "stdout",
     "output_type": "stream",
     "text": [
      "Size of training set: 353\n",
      "Size of testing set: 89\n"
     ]
    }
   ],
   "source": [
    "import numpy as np\n",
    "np.random.seed(42)\n",
    "train_size = int(0.8 * len(X))\n",
    "X_train, X_test = X[:train_size], X[train_size:]\n",
    "y_train, y_test = y[:train_size], y[train_size:]\n",
    "\n",
    "print(\"Size of training set:\", len(X_train))\n",
    "print(\"Size of testing set:\", len(X_test))"
   ]
  },
  {
   "cell_type": "markdown",
   "id": "554d701d-a410-4a4e-950d-eaf06bf8341b",
   "metadata": {},
   "source": [
    "d. Use the inbuilt function to do splitting and interpret results "
   ]
  },
  {
   "cell_type": "code",
   "execution_count": 5,
   "id": "1de05d98-67b7-46e9-8376-cc90abc38f01",
   "metadata": {},
   "outputs": [
    {
     "name": "stdout",
     "output_type": "stream",
     "text": [
      "Size of training set: 353\n",
      "Size of testing set: 89\n"
     ]
    }
   ],
   "source": [
    "from sklearn.model_selection import train_test_split\n",
    "from sklearn import datasets\n",
    "\n",
    "X = diabetes.data\n",
    "y = diabetes.target\n",
    "X_train, X_test, y_train, y_test = train_test_split(X, y, test_size=0.2, random_state=42)\n",
    "\n",
    "print(\"Size of training set:\", len(X_train))\n",
    "print(\"Size of testing set:\", len(X_test))"
   ]
  },
  {
   "cell_type": "markdown",
   "id": "63218afb-5840-4d4b-be49-12afeab713d3",
   "metadata": {},
   "source": [
    "e. Do normalisation of training as well as testing dataset using StandardScaler as \n",
    "done in Lab 1. Is it required to execute the following code for X_test, too? \n",
    "scaler=StandardScaler().fit(X_train) "
   ]
  },
  {
   "cell_type": "code",
   "execution_count": 7,
   "id": "d663ecbc-638e-406f-953d-8ba3548595ef",
   "metadata": {},
   "outputs": [],
   "source": [
    "from sklearn.preprocessing import StandardScaler\n",
    "scaler = StandardScaler().fit(X_train)\n",
    "\n",
    "X_train_normalized = scaler.transform(X_train)\n",
    "X_test_normalized = scaler.transform(X_test)"
   ]
  },
  {
   "cell_type": "markdown",
   "id": "7e24cbbb-a525-4295-93b6-5c6d925ca82f",
   "metadata": {},
   "source": [
    "f. Invoke inbuilt kNN function. "
   ]
  },
  {
   "cell_type": "code",
   "execution_count": 8,
   "id": "0ece546e-6125-4fef-9ef5-93c5054bd5b9",
   "metadata": {},
   "outputs": [
    {
     "name": "stdout",
     "output_type": "stream",
     "text": [
      "Mean Squared Error (MSE): 2891.338951310861\n",
      "R-squared (R2) Score: 0.45427403959873547\n"
     ]
    }
   ],
   "source": [
    "from sklearn.neighbors import KNeighborsRegressor\n",
    "from sklearn.metrics import mean_squared_error, r2_score\n",
    "k = 6\n",
    "knn_regressor = KNeighborsRegressor(n_neighbors=k)\n",
    "\n",
    "knn_regressor.fit(X_train_normalized, y_train)\n",
    "\n",
    "y_pred = knn_regressor.predict(X_test_normalized)\n",
    "\n",
    "mse = mean_squared_error(y_test, y_pred)\n",
    "r2 = r2_score(y_test, y_pred)\n",
    "\n",
    "print(\"Mean Squared Error (MSE):\", mse)\n",
    "print(\"R-squared (R2) Score:\", r2)"
   ]
  },
  {
   "cell_type": "markdown",
   "id": "4c42e324-b195-47d1-930a-e591c1b76a2c",
   "metadata": {},
   "source": [
    "g. Evaluate kNN"
   ]
  },
  {
   "cell_type": "code",
   "execution_count": 13,
   "id": "94b1b9d0-7902-4650-a888-4ba276642de6",
   "metadata": {},
   "outputs": [
    {
     "name": "stdout",
     "output_type": "stream",
     "text": [
      "Mean Squared Error (MSE): 2891.338951310861\n",
      "R-squared (R2) Score: 0.45427403959873547\n"
     ]
    }
   ],
   "source": [
    "from sklearn.metrics import mean_squared_error, r2_score\n",
    "mse = mean_squared_error(y_test, y_pred)\n",
    "r2 = r2_score(y_test, y_pred)\n",
    "print(\"Mean Squared Error (MSE):\", mse)\n",
    "print(\"R-squared (R2) Score:\", r2)"
   ]
  },
  {
   "cell_type": "markdown",
   "id": "2310bf92-8f66-47c7-a16e-4a3440593ab1",
   "metadata": {},
   "source": [
    "h. Find the total number of correct predictions"
   ]
  },
  {
   "cell_type": "code",
   "execution_count": null,
   "id": "92164ebf-fd24-416d-bc36-c792db39bb62",
   "metadata": {},
   "outputs": [],
   "source": []
  }
 ],
 "metadata": {
  "kernelspec": {
   "display_name": "Python 3 (ipykernel)",
   "language": "python",
   "name": "python3"
  },
  "language_info": {
   "codemirror_mode": {
    "name": "ipython",
    "version": 3
   },
   "file_extension": ".py",
   "mimetype": "text/x-python",
   "name": "python",
   "nbconvert_exporter": "python",
   "pygments_lexer": "ipython3",
   "version": "3.11.5"
  }
 },
 "nbformat": 4,
 "nbformat_minor": 5
}
