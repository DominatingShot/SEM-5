{
 "cells": [
  {
   "cell_type": "markdown",
   "id": "1a53f680-745b-4e32-bc9e-c3f08696c308",
   "metadata": {},
   "source": [
    "1. Create two vectors using NumPy and check how many values are equal in the two vectors. \n",
    "Example \n",
    " V1 = [1 6 7 9] \n",
    " V2 = [1 0 6 9] \n",
    " Here, the output should be 2. \n",
    "(Use np. sum(V)1==V2"
   ]
  },
  {
   "cell_type": "code",
   "execution_count": 1,
   "id": "4617b50e-a047-4e10-af1b-f863caa287bb",
   "metadata": {},
   "outputs": [
    {
     "name": "stdout",
     "output_type": "stream",
     "text": [
      "Number of equal values: 2\n"
     ]
    }
   ],
   "source": [
    "import numpy as np\n",
    "\n",
    "V1 = np.array([1, 6, 7, 9])\n",
    "V2 = np.array([1, 0, 6, 9])\n",
    "\n",
    "equal_count = np.sum(V1 == V2)\n",
    "\n",
    "print(\"Number of equal values:\", equal_count)\n"
   ]
  },
  {
   "cell_type": "markdown",
   "id": "d44533fe-0077-426d-8dc7-1c6595892d12",
   "metadata": {},
   "source": [
    "2. Matrix creation using NumPy \n",
    " \n",
    "a. Create a matrix M with 10 rows and 3 columns and populate with random \n",
    "value\n",
    "b. Print size of M. (M.shape) \n",
    "c. Print only the number of rows of M(M.shape[0]) \n",
    "d. Print only the number of columns of M \n",
    "e. Write a simple loop to modify the third column as follows: If the sum of the \n",
    "first two columns is divisible by 4, Y should be 1 else, 0. \n",
    "s. "
   ]
  },
  {
   "cell_type": "code",
   "execution_count": 2,
   "id": "38c01004-a345-4ac1-aa83-00a1ca786e96",
   "metadata": {},
   "outputs": [
    {
     "name": "stdout",
     "output_type": "stream",
     "text": [
      "Matrix M:\n",
      "[[31 32  7]\n",
      " [71 51 13]\n",
      " [93 58 97]\n",
      " [71 55 64]\n",
      " [ 4 81 83]\n",
      " [35 19 40]\n",
      " [52 59 19]\n",
      " [13 66 50]\n",
      " [78 34 61]\n",
      " [88  1 12]]\n",
      "Size of M: (10, 3)\n",
      "Number of rows in M: 10\n",
      "Number of columns in M: 3\n",
      "Modified Matrix M:\n",
      "[[31 32  0]\n",
      " [71 51  0]\n",
      " [93 58  0]\n",
      " [71 55  0]\n",
      " [ 4 81  0]\n",
      " [35 19  0]\n",
      " [52 59  0]\n",
      " [13 66  0]\n",
      " [78 34  1]\n",
      " [88  1  0]]\n"
     ]
    }
   ],
   "source": [
    "import numpy as np\n",
    "\n",
    "M = np.random.randint(0, 100, size=(10, 3))\n",
    "\n",
    "print(\"Matrix M:\")\n",
    "print(M)\n",
    "\n",
    "print(\"Size of M:\", M.shape)\n",
    "\n",
    "print(\"Number of rows in M:\", M.shape[0])\n",
    "\n",
    "print(\"Number of columns in M:\", M.shape[1])\n",
    "\n",
    "for row in M:\n",
    "    if (row[0] + row[1]) % 4 == 0:\n",
    "        row[2] = 1\n",
    "    else:\n",
    "        row[2] = 0\n",
    "        \n",
    "print(\"Modified Matrix M:\")\n",
    "print(M)"
   ]
  },
  {
   "cell_type": "markdown",
   "id": "f2478277-ff90-4829-84c9-d92759186a8f",
   "metadata": {},
   "source": [
    "3. Create pandas dataframe ‘df’ from the created matrix M and name the columns as X1, \n",
    "X2, and Y. (Refer Lab1) "
   ]
  },
  {
   "cell_type": "code",
   "execution_count": 3,
   "id": "aa318bbc-cb4e-4aeb-a170-30d2a4423420",
   "metadata": {},
   "outputs": [
    {
     "name": "stdout",
     "output_type": "stream",
     "text": [
      "   X1  X2  Y\n",
      "0  31  32  0\n",
      "1  71  51  0\n",
      "2  93  58  0\n",
      "3  71  55  0\n",
      "4   4  81  0\n",
      "5  35  19  0\n",
      "6  52  59  0\n",
      "7  13  66  0\n",
      "8  78  34  1\n",
      "9  88   1  0\n"
     ]
    }
   ],
   "source": [
    "import pandas as pd\n",
    "df = pd.DataFrame(M, columns=['X1', 'X2', 'Y'])\n",
    "print(df)"
   ]
  },
  {
   "cell_type": "markdown",
   "id": "5b4ad047-0f62-4cb4-8eac-e2c7694ee34f",
   "metadata": {},
   "source": [
    "4. Plot X1 and X2 using scatter plot. Color (X1, X2) red if the corresponding Y is 1 else, blue. \n",
    "col = df.Y.map({0:'b', 1:'r'}) #df is the dataframe you created for Q.3 \n",
    "df.plot.scatter(x='X1', y='X2', c=col) \n",
    "plt.show() "
   ]
  },
  {
   "cell_type": "code",
   "execution_count": 4,
   "id": "1c796e28-c21d-4df7-a735-5762aeac2eab",
   "metadata": {},
   "outputs": [
    {
     "data": {
      "image/png": "[encoded data removed]",
      "text/plain": [
       "<Figure size 640x480 with 1 Axes>"
      ]
     },
     "metadata": {},
     "output_type": "display_data"
    }
   ],
   "source": [
    "import pandas as pd\n",
    "import matplotlib.pyplot as plt\n",
    "\n",
    "col = df['Y'].map({0: 'b', 1: 'r'})\n",
    "\n",
    "df.plot.scatter(x='X1', y='X2', c=col)\n",
    "\n",
    "plt.show()"
   ]
  },
  {
   "cell_type": "markdown",
   "id": "c0972c85-4892-4cee-958f-42ea0215d331",
   "metadata": {},
   "source": [
    "5. \n",
    "a. For two columns X1, X2, find squared error: (x1 – x2)^2\n",
    " (Use np.square\n",
    " \n",
    " Example: Matrix M will he \n",
    " [1369 841 ….. 0] \n",
    "b. Find the sum of the squared eor. \n",
    " (Use \n",
    "np.sum) "
   ]
  },
  {
   "cell_type": "code",
   "execution_count": 5,
   "id": "11044f2f-60fe-41ca-a788-765235a125ba",
   "metadata": {},
   "outputs": [
    {
     "name": "stdout",
     "output_type": "stream",
     "text": [
      "Squared Error:\n",
      "0       1\n",
      "1     400\n",
      "2    1225\n",
      "3     256\n",
      "4    5929\n",
      "5     256\n",
      "6      49\n",
      "7    2809\n",
      "8    1936\n",
      "9    7569\n",
      "dtype: int64\n",
      "Sum of Squared Error: 20430\n"
     ]
    }
   ],
   "source": [
    "import numpy as np\n",
    "\n",
    "squared_error = np.square(df['X1'] - df['X2'])\n",
    "sum_squared_error = np.sum(squared_error)\n",
    "\n",
    "print(\"Squared Error:\")\n",
    "print(squared_error)\n",
    "\n",
    "print(\"Sum of Squared Error:\", sum_squared_error)"
   ]
  },
  {
   "cell_type": "markdown",
   "id": "523771cc-a618-48cf-9736-8f7293bdfb04",
   "metadata": {},
   "source": [
    "6. Find Euclidean distance between the first two rows of matrix M. \n",
    "Compare the result with the inbuilt function numpy.linalg.norm(a-b), where a is the first \n",
    "row and b is the second row. "
   ]
  },
  {
   "cell_type": "code",
   "execution_count": 6,
   "id": "a0b666c1-f75c-4828-aa03-a522837de37c",
   "metadata": {},
   "outputs": [
    {
     "name": "stdout",
     "output_type": "stream",
     "text": [
      "Euclidean Distance (Manual): 44.28317965096906\n",
      "Euclidean Distance (numpy.linalg.norm): 44.28317965096906\n"
     ]
    }
   ],
   "source": [
    "import numpy as np\n",
    "row_a = M[0]\n",
    "row_b = M[1]\n",
    "\n",
    "euclidean_distance_manual = np.sqrt(np.sum((row_a - row_b) ** 2))\n",
    "euclidean_distance_builtin = np.linalg.norm(row_a - row_b)\n",
    "\n",
    "print(\"Euclidean Distance (Manual):\", euclidean_distance_manual)\n",
    "print(\"Euclidean Distance (numpy.linalg.norm):\", euclidean_distance_builtin)\n"
   ]
  },
  {
   "cell_type": "markdown",
   "id": "ea4c343e-87c5-44fc-baf8-dfbce21e69c0",
   "metadata": {},
   "source": [
    "7. Create a vector V with two random values. Find the Euclidean distance between each row \n",
    "of M with V. Store the distance in a vector and print. "
   ]
  },
  {
   "cell_type": "code",
   "execution_count": 7,
   "id": "7a626bcd-6de8-4297-a04b-2b5632d911b6",
   "metadata": {},
   "outputs": [
    {
     "name": "stdout",
     "output_type": "stream",
     "text": [
      "Vector V: [0.05642167 0.18226565]\n",
      "Euclidean Distances to Vector V:\n",
      "[ 44.38325426  87.26645077 109.45957773  89.65475618  80.91389247\n",
      "  39.68829541  78.47076655  67.07838977  84.96376027  87.94738006]\n"
     ]
    }
   ],
   "source": [
    "#Euclidean distance between the first two columns of each row of matrix 'M' and a vector 'V' with two random values\n",
    "import numpy as np\n",
    "V = np.random.rand(2)\n",
    "distances = []\n",
    "for row in M:\n",
    "    distance = np.linalg.norm(row[:2] - V)\n",
    "    distances.append(distance)\n",
    "distances = np.array(distances)\n",
    "print(\"Vector V:\", V)\n",
    "print(\"Euclidean Distances to Vector V:\")\n",
    "print(distances)"
   ]
  },
  {
   "cell_type": "markdown",
   "id": "bcbc1c62-b09b-4c10-987c-a66e3f99d98c",
   "metadata": {},
   "source": [
    "8. Create a matrix A with 10 rows and 2 columns. Add a new column to a matrix. (Use \n",
    "np.column_stack). Add a new row to a matrix(Use np.vstack) "
   ]
  },
  {
   "cell_type": "code",
   "execution_count": 8,
   "id": "6194a629-a586-49b0-8198-14639873958f",
   "metadata": {},
   "outputs": [
    {
     "name": "stdout",
     "output_type": "stream",
     "text": [
      "[[1 2 3]\n",
      " [2 3 4]]\n",
      "[[1 2 3 6]\n",
      " [2 3 4 7]]\n",
      "[[1 2 3 6]\n",
      " [2 3 4 7]\n",
      " [1 1 1 1]]\n"
     ]
    }
   ],
   "source": [
    "import numpy as np\n",
    "\n",
    "A=np.array([[1,2,3],[2,3,4]]) \n",
    "print(A) \n",
    "\n",
    "C=np.array([6,7]) \n",
    "A=np.column_stack((A,C)) \n",
    "\n",
    "print(A) \n",
    "\n",
    "R=np.array([1,1,1,1]) \n",
    "A=np.vstack((A,R)) \n",
    "print(A) "
   ]
  },
  {
   "cell_type": "markdown",
   "id": "00b54bcb-e1aa-4882-be6f-b235ff5932f9",
   "metadata": {},
   "source": []
  },
  {
   "cell_type": "code",
   "execution_count": 9,
   "id": "424ab4a0-ae5c-4a8c-8041-9fa40db9f38e",
   "metadata": {},
   "outputs": [
    {
     "name": "stdout",
     "output_type": "stream",
     "text": [
      "Dist Matrix:\n",
      "[[0.         0.         0.58868831]\n",
      " [0.         1.         0.16854231]\n",
      " [0.         2.         0.25956051]\n",
      " [0.         3.         0.31143861]\n",
      " [0.         4.         0.27029038]\n",
      " [0.         5.         0.37494955]\n",
      " [0.         6.         0.1000996 ]\n",
      " [0.         7.         0.65083785]\n",
      " [0.         8.         0.60200899]\n",
      " [0.         9.         0.73058167]\n",
      " [1.         0.         0.77955141]\n",
      " [1.         1.         0.24247459]\n",
      " [1.         2.         0.18973384]\n",
      " [1.         3.         0.41373976]\n",
      " [1.         4.         0.4446166 ]\n",
      " [1.         5.         0.58600912]\n",
      " [1.         6.         0.1382299 ]\n",
      " [1.         7.         0.84665872]\n",
      " [1.         8.         0.66609317]\n",
      " [1.         9.         0.83368373]\n",
      " [2.         0.         0.94793517]\n",
      " [2.         1.         0.64969018]\n",
      " [2.         2.         0.33868676]\n",
      " [2.         3.         0.79382014]\n",
      " [2.         4.         0.71254582]\n",
      " [2.         5.         0.56059922]\n",
      " [2.         6.         0.54043664]\n",
      " [2.         7.         0.62550887]\n",
      " [2.         8.         0.15133322]\n",
      " [2.         9.         0.34837151]\n",
      " [3.         0.         0.2720058 ]\n",
      " [3.         1.         0.29746625]\n",
      " [3.         2.         0.63384227]\n",
      " [3.         3.         0.1650703 ]\n",
      " [3.         4.         0.1082858 ]\n",
      " [3.         5.         0.3978811 ]\n",
      " [3.         6.         0.39992581]\n",
      " [3.         7.         0.68872945]\n",
      " [3.         8.         0.90405872]\n",
      " [3.         9.         0.97529204]\n",
      " [4.         0.         0.86454866]\n",
      " [4.         1.         0.36493341]\n",
      " [4.         2.         0.07485992]\n",
      " [4.         3.         0.5379459 ]\n",
      " [4.         4.         0.54033069]\n",
      " [4.         5.         0.60785191]\n",
      " [4.         6.         0.24412567]\n",
      " [4.         7.         0.83159484]\n",
      " [4.         8.         0.55849509]\n",
      " [4.         9.         0.74110674]\n",
      " [5.         0.         0.74562135]\n",
      " [5.         1.         0.22128203]\n",
      " [5.         2.         0.17745418]\n",
      " [5.         3.         0.39435946]\n",
      " [5.         4.         0.41264488]\n",
      " [5.         5.         0.54377053]\n",
      " [5.         6.         0.1061388 ]\n",
      " [5.         7.         0.80466203]\n",
      " [5.         8.         0.64007765]\n",
      " [5.         9.         0.80251596]\n",
      " [6.         0.         0.88608428]\n",
      " [6.         1.         0.40820589]\n",
      " [6.         2.         0.04781552]\n",
      " [6.         3.         0.5800641 ]\n",
      " [6.         4.         0.56953439]\n",
      " [6.         5.         0.60534971]\n",
      " [6.         6.         0.2851077 ]\n",
      " [6.         7.         0.81163531]\n",
      " [6.         8.         0.50621886]\n",
      " [6.         9.         0.69287232]\n",
      " [7.         0.         0.11988892]\n",
      " [7.         1.         0.48762046]\n",
      " [7.         2.         0.73892151]\n",
      " [7.         3.         0.39852605]\n",
      " [7.         4.         0.26636523]\n",
      " [7.         5.         0.28924505]\n",
      " [7.         6.         0.55592872]\n",
      " [7.         7.         0.51390503]\n",
      " [7.         8.         0.87552307]\n",
      " [7.         9.         0.8957448 ]\n",
      " [8.         0.         0.90539291]\n",
      " [8.         1.         0.55096546]\n",
      " [8.         2.         0.2203711 ]\n",
      " [8.         3.         0.70460562]\n",
      " [8.         4.         0.64055173]\n",
      " [8.         5.         0.54362273]\n",
      " [8.         6.         0.43587391]\n",
      " [8.         7.         0.66605797]\n",
      " [8.         8.         0.26896302]\n",
      " [8.         9.         0.45940266]\n",
      " [9.         0.         0.12489127]\n",
      " [9.         1.         0.48516214]\n",
      " [9.         2.         0.73472483]\n",
      " [9.         3.         0.39766171]\n",
      " [9.         4.         0.26422631]\n",
      " [9.         5.         0.28430396]\n",
      " [9.         6.         0.55265703]\n",
      " [9.         7.         0.51008811]\n",
      " [9.         8.         0.87052132]\n",
      " [9.         9.         0.89089373]]\n"
     ]
    }
   ],
   "source": [
    "import numpy as np\n",
    "M = np.random.rand(10, 2)\n",
    "M_prime = np.random.rand(10, 2)\n",
    "distances = []\n",
    "for i, row_m in enumerate(M):\n",
    "    for j, row_m_prime in enumerate(M_prime):\n",
    "        distance = np.linalg.norm(row_m - row_m_prime)\n",
    "        distances.append([i, j, distance])\n",
    "        \n",
    "Dist = np.array(distances)\n",
    "print(\"Dist Matrix:\")\n",
    "print(Dist)"
   ]
  },
  {
   "cell_type": "code",
   "execution_count": 10,
   "id": "2db9aa4f-9eb5-4b7c-a5e9-eec205954b9e",
   "metadata": {},
   "outputs": [
    {
     "name": "stdout",
     "output_type": "stream",
     "text": [
      "Scikit-learn Distances:\n",
      "[[0.58868831 0.16854231 0.25956051 0.31143861 0.27029038 0.37494955\n",
      "  0.1000996  0.65083785 0.60200899 0.73058167]\n",
      " [0.77955141 0.24247459 0.18973384 0.41373976 0.4446166  0.58600912\n",
      "  0.1382299  0.84665872 0.66609317 0.83368373]\n",
      " [0.94793517 0.64969018 0.33868676 0.79382014 0.71254582 0.56059922\n",
      "  0.54043664 0.62550887 0.15133322 0.34837151]\n",
      " [0.2720058  0.29746625 0.63384227 0.1650703  0.1082858  0.3978811\n",
      "  0.39992581 0.68872945 0.90405872 0.97529204]\n",
      " [0.86454866 0.36493341 0.07485992 0.5379459  0.54033069 0.60785191\n",
      "  0.24412567 0.83159484 0.55849509 0.74110674]\n",
      " [0.74562135 0.22128203 0.17745418 0.39435946 0.41264488 0.54377053\n",
      "  0.1061388  0.80466203 0.64007765 0.80251596]\n",
      " [0.88608428 0.40820589 0.04781552 0.5800641  0.56953439 0.60534971\n",
      "  0.2851077  0.81163531 0.50621886 0.69287232]\n",
      " [0.11988892 0.48762046 0.73892151 0.39852605 0.26636523 0.28924505\n",
      "  0.55592872 0.51390503 0.87552307 0.8957448 ]\n",
      " [0.90539291 0.55096546 0.2203711  0.70460562 0.64055173 0.54362273\n",
      "  0.43587391 0.66605797 0.26896302 0.45940266]\n",
      " [0.12489127 0.48516214 0.73472483 0.39766171 0.26422631 0.28430396\n",
      "  0.55265703 0.51008811 0.87052132 0.89089373]]\n"
     ]
    }
   ],
   "source": [
    "from sklearn.metrics.pairwise import euclidean_distances\n",
    "sklearn_distances = euclidean_distances(M, M_prime)\n",
    "print(\"Scikit-learn Distances:\")\n",
    "print(sklearn_distances)"
   ]
  },
  {
   "cell_type": "markdown",
   "id": "d8ecafc5-cac1-480f-9fba-1a52037aebb0",
   "metadata": {},
   "source": [
    "10. Sort the Dist matrix based on the last column"
   ]
  },
  {
   "cell_type": "code",
   "execution_count": 11,
   "id": "df121752-5c43-470f-979f-9440fda40643",
   "metadata": {},
   "outputs": [
    {
     "name": "stdout",
     "output_type": "stream",
     "text": [
      "Sorted Dist Matrix:\n",
      "[[6.         2.         0.04781552]\n",
      " [4.         2.         0.07485992]\n",
      " [0.         6.         0.1000996 ]\n",
      " [5.         6.         0.1061388 ]\n",
      " [3.         4.         0.1082858 ]\n",
      " [7.         0.         0.11988892]\n",
      " [9.         0.         0.12489127]\n",
      " [1.         6.         0.1382299 ]\n",
      " [2.         8.         0.15133322]\n",
      " [3.         3.         0.1650703 ]\n",
      " [0.         1.         0.16854231]\n",
      " [5.         2.         0.17745418]\n",
      " [1.         2.         0.18973384]\n",
      " [8.         2.         0.2203711 ]\n",
      " [5.         1.         0.22128203]\n",
      " [1.         1.         0.24247459]\n",
      " [4.         6.         0.24412567]\n",
      " [0.         2.         0.25956051]\n",
      " [9.         4.         0.26422631]\n",
      " [7.         4.         0.26636523]\n",
      " [8.         8.         0.26896302]\n",
      " [0.         4.         0.27029038]\n",
      " [3.         0.         0.2720058 ]\n",
      " [9.         5.         0.28430396]\n",
      " [6.         6.         0.2851077 ]\n",
      " [7.         5.         0.28924505]\n",
      " [3.         1.         0.29746625]\n",
      " [0.         3.         0.31143861]\n",
      " [2.         2.         0.33868676]\n",
      " [2.         9.         0.34837151]\n",
      " [4.         1.         0.36493341]\n",
      " [0.         5.         0.37494955]\n",
      " [5.         3.         0.39435946]\n",
      " [9.         3.         0.39766171]\n",
      " [3.         5.         0.3978811 ]\n",
      " [7.         3.         0.39852605]\n",
      " [3.         6.         0.39992581]\n",
      " [6.         1.         0.40820589]\n",
      " [5.         4.         0.41264488]\n",
      " [1.         3.         0.41373976]\n",
      " [8.         6.         0.43587391]\n",
      " [1.         4.         0.4446166 ]\n",
      " [8.         9.         0.45940266]\n",
      " [9.         1.         0.48516214]\n",
      " [7.         1.         0.48762046]\n",
      " [6.         8.         0.50621886]\n",
      " [9.         7.         0.51008811]\n",
      " [7.         7.         0.51390503]\n",
      " [4.         3.         0.5379459 ]\n",
      " [4.         4.         0.54033069]\n",
      " [2.         6.         0.54043664]\n",
      " [8.         5.         0.54362273]\n",
      " [5.         5.         0.54377053]\n",
      " [8.         1.         0.55096546]\n",
      " [9.         6.         0.55265703]\n",
      " [7.         6.         0.55592872]\n",
      " [4.         8.         0.55849509]\n",
      " [2.         5.         0.56059922]\n",
      " [6.         4.         0.56953439]\n",
      " [6.         3.         0.5800641 ]\n",
      " [1.         5.         0.58600912]\n",
      " [0.         0.         0.58868831]\n",
      " [0.         8.         0.60200899]\n",
      " [6.         5.         0.60534971]\n",
      " [4.         5.         0.60785191]\n",
      " [2.         7.         0.62550887]\n",
      " [3.         2.         0.63384227]\n",
      " [5.         8.         0.64007765]\n",
      " [8.         4.         0.64055173]\n",
      " [2.         1.         0.64969018]\n",
      " [0.         7.         0.65083785]\n",
      " [8.         7.         0.66605797]\n",
      " [1.         8.         0.66609317]\n",
      " [3.         7.         0.68872945]\n",
      " [6.         9.         0.69287232]\n",
      " [8.         3.         0.70460562]\n",
      " [2.         4.         0.71254582]\n",
      " [0.         9.         0.73058167]\n",
      " [9.         2.         0.73472483]\n",
      " [7.         2.         0.73892151]\n",
      " [4.         9.         0.74110674]\n",
      " [5.         0.         0.74562135]\n",
      " [1.         0.         0.77955141]\n",
      " [2.         3.         0.79382014]\n",
      " [5.         9.         0.80251596]\n",
      " [5.         7.         0.80466203]\n",
      " [6.         7.         0.81163531]\n",
      " [4.         7.         0.83159484]\n",
      " [1.         9.         0.83368373]\n",
      " [1.         7.         0.84665872]\n",
      " [4.         0.         0.86454866]\n",
      " [9.         8.         0.87052132]\n",
      " [7.         8.         0.87552307]\n",
      " [6.         0.         0.88608428]\n",
      " [9.         9.         0.89089373]\n",
      " [7.         9.         0.8957448 ]\n",
      " [3.         8.         0.90405872]\n",
      " [8.         0.         0.90539291]\n",
      " [2.         0.         0.94793517]\n",
      " [3.         9.         0.97529204]]\n"
     ]
    }
   ],
   "source": [
    "sorted_indices = Dist[:, 2].argsort()\n",
    "sorted_Dist = Dist[sorted_indices]\n",
    "print(\"Sorted Dist Matrix:\")\n",
    "print(sorted_Dist)"
   ]
  },
  {
   "cell_type": "markdown",
   "id": "38ba3300-0997-437f-9b18-3009ef0d6d75",
   "metadata": {},
   "source": [
    "11. Get the initial k rows from the sorted matr"
   ]
  },
  {
   "cell_type": "code",
   "execution_count": 12,
   "id": "2d839635-097b-4fd8-9674-6ebefb9f2f2f",
   "metadata": {},
   "outputs": [
    {
     "name": "stdout",
     "output_type": "stream",
     "text": [
      "Initial 5 Rows:\n",
      "[[6.         2.         0.04781552]\n",
      " [4.         2.         0.07485992]\n",
      " [0.         6.         0.1000996 ]\n",
      " [5.         6.         0.1061388 ]\n",
      " [3.         4.         0.1082858 ]]\n"
     ]
    }
   ],
   "source": [
    "k = 5 \n",
    "initial_k_rows = sorted_Dist[:k]\n",
    "print(\"Initial\", k, \"Rows:\")\n",
    "print(initial_k_rows)"
   ]
  },
  {
   "cell_type": "markdown",
   "id": "8999486c-f634-40ab-a940-da44cd0511f7",
   "metadata": {},
   "source": [
    "12. Find the number of 1s and 0s in the k rows above. Print 1 if the number of 1s is more else, \n",
    "print 0. "
   ]
  },
  {
   "cell_type": "code",
   "execution_count": 13,
   "id": "68f3cd9e-7167-4c42-b94b-9ddc1a83576f",
   "metadata": {},
   "outputs": [
    {
     "name": "stdout",
     "output_type": "stream",
     "text": [
      "Result: 0\n"
     ]
    }
   ],
   "source": [
    "k = 8\n",
    "initial_k_rows = sorted_Dist[:k]\n",
    "#print(initial_k_rows[:, 2]==1)\n",
    "ones_count = (initial_k_rows[:, 2] == 1).sum()\n",
    "zeros_count = (initial_k_rows[:, 2] == 0).sum()\n",
    "\n",
    "if ones_count > zeros_count:\n",
    "    result = 1\n",
    "else:\n",
    "    result = 0\n",
    "\n",
    "print(\"Result:\", result)"
   ]
  },
  {
   "cell_type": "markdown",
   "id": "0af84a81-ff49-4093-a582-1e6c2cfb68dd",
   "metadata": {},
   "source": [
    "**PART B : KNN implementation**"
   ]
  },
  {
   "cell_type": "markdown",
   "id": "a0c10947-bb53-4d6b-9a73-c0fdde783f0c",
   "metadata": {},
   "source": [
    "a. Load diabetes dataset as done in Lab 1. "
   ]
  },
  {
   "cell_type": "code",
   "execution_count": 14,
   "id": "750da52b-91dd-4586-952b-626811e2bf27",
   "metadata": {},
   "outputs": [],
   "source": [
    "from sklearn import datasets\n",
    "\n",
    "diabetes = datasets.load_diabetes()\n",
    "X = diabetes.data\n",
    "y = diabetes.target"
   ]
  },
  {
   "cell_type": "markdown",
   "id": "6c2166ba-7404-473a-890c-e799455712c3",
   "metadata": {},
   "source": [
    "b. Peek at a few rows as done in Lab 1 "
   ]
  },
  {
   "cell_type": "code",
   "execution_count": 15,
   "id": "ff503e45-ab9e-44a5-ac92-1a366cab67eb",
   "metadata": {},
   "outputs": [
    {
     "name": "stdout",
     "output_type": "stream",
     "text": [
      "Peek at the first 5 rows of the dataset:\n",
      "[[ 0.03807591  0.05068012  0.06169621  0.02187239 -0.0442235  -0.03482076\n",
      "  -0.04340085 -0.00259226  0.01990749 -0.01764613]\n",
      " [-0.00188202 -0.04464164 -0.05147406 -0.02632753 -0.00844872 -0.01916334\n",
      "   0.07441156 -0.03949338 -0.06833155 -0.09220405]\n",
      " [ 0.08529891  0.05068012  0.04445121 -0.00567042 -0.04559945 -0.03419447\n",
      "  -0.03235593 -0.00259226  0.00286131 -0.02593034]\n",
      " [-0.08906294 -0.04464164 -0.01159501 -0.03665608  0.01219057  0.02499059\n",
      "  -0.03603757  0.03430886  0.02268774 -0.00936191]\n",
      " [ 0.00538306 -0.04464164 -0.03638469  0.02187239  0.00393485  0.01559614\n",
      "   0.00814208 -0.00259226 -0.03198764 -0.04664087]]\n",
      "[151.  75. 141. 206. 135.]\n"
     ]
    }
   ],
   "source": [
    "print(\"Peek at the first\", 5, \"rows of the dataset:\")\n",
    "print(X[:5])\n",
    "print(y[:5])"
   ]
  },
  {
   "cell_type": "markdown",
   "id": "9c857d51-67b2-4dcb-ac94-2a5c7c44e71a",
   "metadata": {},
   "source": [
    "c. Split the dataset into 80% training and 20% testing using numpy slicing. "
   ]
  },
  {
   "cell_type": "code",
   "execution_count": 16,
   "id": "631f755c-8ca2-45fe-a6f1-86ccb10df1ec",
   "metadata": {},
   "outputs": [
    {
     "name": "stdout",
     "output_type": "stream",
     "text": [
      "Size of training set: 353\n",
      "Size of testing set: 89\n"
     ]
    }
   ],
   "source": [
    "import numpy as np\n",
    "np.random.seed(42)\n",
    "train_size = int(0.8 * len(X))\n",
    "X_train, X_test = X[:train_size], X[train_size:]\n",
    "y_train, y_test = y[:train_size], y[train_size:]\n",
    "\n",
    "print(\"Size of training set:\", len(X_train))\n",
    "print(\"Size of testing set:\", len(X_test))"
   ]
  },
  {
   "cell_type": "markdown",
   "id": "554d701d-a410-4a4e-950d-eaf06bf8341b",
   "metadata": {},
   "source": [
    "d. Use the inbuilt function to do splitting and interpret results "
   ]
  },
  {
   "cell_type": "code",
   "execution_count": 17,
   "id": "1de05d98-67b7-46e9-8376-cc90abc38f01",
   "metadata": {},
   "outputs": [
    {
     "name": "stdout",
     "output_type": "stream",
     "text": [
      "Size of training set: 353\n",
      "Size of testing set: 89\n"
     ]
    }
   ],
   "source": [
    "from sklearn.model_selection import train_test_split\n",
    "from sklearn import datasets\n",
    "\n",
    "X = diabetes.data\n",
    "y = diabetes.target\n",
    "X_train, X_test, y_train, y_test = train_test_split(X, y, test_size=0.2, random_state=42)\n",
    "\n",
    "print(\"Size of training set:\", len(X_train))\n",
    "print(\"Size of testing set:\", len(X_test))"
   ]
  },
  {
   "cell_type": "markdown",
   "id": "63218afb-5840-4d4b-be49-12afeab713d3",
   "metadata": {},
   "source": [
    "e. Do normalisation of training as well as testing dataset using StandardScaler as \n",
    "done in Lab 1. Is it required to execute the following code for X_test, too? \n",
    "scaler=StandardScaler().fit(X_train) "
   ]
  },
  {
   "cell_type": "code",
   "execution_count": 18,
   "id": "d663ecbc-638e-406f-953d-8ba3548595ef",
   "metadata": {},
   "outputs": [],
   "source": [
    "from sklearn.preprocessing import StandardScaler\n",
    "scaler = StandardScaler().fit(X_train)\n",
    "\n",
    "X_train_normalized = scaler.transform(X_train)\n",
    "X_test_normalized = scaler.transform(X_test)"
   ]
  },
  {
   "cell_type": "markdown",
   "id": "7e24cbbb-a525-4295-93b6-5c6d925ca82f",
   "metadata": {},
   "source": [
    "f. Invoke inbuilt kNN function. "
   ]
  },
  {
   "cell_type": "code",
   "execution_count": 19,
   "id": "0ece546e-6125-4fef-9ef5-93c5054bd5b9",
   "metadata": {},
   "outputs": [
    {
     "name": "stdout",
     "output_type": "stream",
     "text": [
      "Mean Squared Error (MSE): 2891.338951310861\n",
      "R-squared (R2) Score: 0.45427403959873547\n"
     ]
    }
   ],
   "source": [
    "from sklearn.neighbors import KNeighborsRegressor\n",
    "from sklearn.metrics import mean_squared_error, r2_score\n",
    "k = 6\n",
    "knn_regressor = KNeighborsRegressor(n_neighbors=k)\n",
    "\n",
    "knn_regressor.fit(X_train_normalized, y_train)\n",
    "\n",
    "y_pred = knn_regressor.predict(X_test_normalized)\n",
    "\n",
    "mse = mean_squared_error(y_test, y_pred)\n",
    "r2 = r2_score(y_test, y_pred)\n",
    "\n",
    "print(\"Mean Squared Error (MSE):\", mse)\n",
    "print(\"R-squared (R2) Score:\", r2)"
   ]
  },
  {
   "cell_type": "markdown",
   "id": "4c42e324-b195-47d1-930a-e591c1b76a2c",
   "metadata": {},
   "source": [
    "g. Evaluate kNN"
   ]
  },
  {
   "cell_type": "code",
   "execution_count": 20,
   "id": "94b1b9d0-7902-4650-a888-4ba276642de6",
   "metadata": {},
   "outputs": [
    {
     "name": "stdout",
     "output_type": "stream",
     "text": [
      "Mean Squared Error (MSE): 2891.338951310861\n",
      "R-squared (R2) Score: 0.45427403959873547\n"
     ]
    }
   ],
   "source": [
    "from sklearn.metrics import mean_squared_error, r2_score\n",
    "mse = mean_squared_error(y_test, y_pred)\n",
    "r2 = r2_score(y_test, y_pred)\n",
    "print(\"Mean Squared Error (MSE):\", mse)\n",
    "print(\"R-squared (R2) Score:\", r2)"
   ]
  },
  {
   "cell_type": "markdown",
   "id": "2310bf92-8f66-47c7-a16e-4a3440593ab1",
   "metadata": {},
   "source": [
    "h. Find the total number of correct predictions"
   ]
  },
  {
   "cell_type": "code",
   "execution_count": null,
   "id": "92164ebf-fd24-416d-bc36-c792db39bb62",
   "metadata": {},
   "outputs": [],
   "source": []
  }
 ],
 "metadata": {
  "kernelspec": {
   "display_name": "Python 3 (ipykernel)",
   "language": "python",
   "name": "python3"
  },
  "language_info": {
   "codemirror_mode": {
    "name": "ipython",
    "version": 3
   },
   "file_extension": ".py",
   "mimetype": "text/x-python",
   "name": "python",
   "nbconvert_exporter": "python",
   "pygments_lexer": "ipython3",
   "version": "3.10.12"
  }
 },
 "nbformat": 4,
 "nbformat_minor": 5
}
