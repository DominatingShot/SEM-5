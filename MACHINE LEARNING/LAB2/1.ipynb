{
 "cells": [
  {
   "cell_type": "code",
   "execution_count": 39,
   "metadata": {},
   "outputs": [],
   "source": [
    "import numpy as np"
   ]
  },
  {
   "cell_type": "code",
   "execution_count": 40,
   "metadata": {},
   "outputs": [
    {
     "name": "stdout",
     "output_type": "stream",
     "text": [
      "[ True False False  True]\n"
     ]
    },
    {
     "data": {
      "text/plain": [
       "2"
      ]
     },
     "execution_count": 40,
     "metadata": {},
     "output_type": "execute_result"
    }
   ],
   "source": [
    "v1=np.array([1,6,7,9])\n",
    "v2=np.array([1,0,6,9])\n",
    "x=v1==v2\n",
    "print(x)\n",
    "np.sum(v1==v2)\n"
   ]
  },
  {
   "cell_type": "code",
   "execution_count": 41,
   "metadata": {},
   "outputs": [
    {
     "name": "stdout",
     "output_type": "stream",
     "text": [
      "[[6 3 7]\n",
      " [4 6 9]\n",
      " [2 6 7]\n",
      " [4 3 7]\n",
      " [7 2 5]\n",
      " [4 1 7]\n",
      " [5 1 4]\n",
      " [0 9 5]\n",
      " [8 0 9]\n",
      " [2 6 3]]\n"
     ]
    }
   ],
   "source": [
    "\n",
    "mat=np.random.randint(10,size=(10,3))\n",
    "print(mat)\n"
   ]
  },
  {
   "cell_type": "code",
   "execution_count": 42,
   "metadata": {},
   "outputs": [
    {
     "name": "stdout",
     "output_type": "stream",
     "text": [
      "(10, 3)\n",
      "10\n",
      "3\n"
     ]
    }
   ],
   "source": [
    "print(mat.shape)\n",
    "print(mat.shape[0])\n",
    "print(mat.shape[1])"
   ]
  },
  {
   "cell_type": "code",
   "execution_count": 43,
   "metadata": {},
   "outputs": [
    {
     "name": "stdout",
     "output_type": "stream",
     "text": [
      "[[6 3 0]\n",
      " [4 6 0]\n",
      " [2 6 1]\n",
      " [4 3 0]\n",
      " [7 2 0]\n",
      " [4 1 0]\n",
      " [5 1 0]\n",
      " [0 9 0]\n",
      " [8 0 1]\n",
      " [2 6 1]]\n"
     ]
    }
   ],
   "source": [
    "for i in range(mat.shape[0]):\n",
    "    if(sum(mat[i,0:2])%4==0):\n",
    "        mat[i,2]=1\n",
    "    else:\n",
    "        mat[i,2]=0  \n",
    "print(mat)\n",
    "    "
   ]
  },
  {
   "cell_type": "code",
   "execution_count": 44,
   "metadata": {},
   "outputs": [],
   "source": [
    "import pandas as pd\n"
   ]
  },
  {
   "cell_type": "code",
   "execution_count": 45,
   "metadata": {},
   "outputs": [
    {
     "name": "stdout",
     "output_type": "stream",
     "text": [
      "   x1  x2  y\n",
      "0   6   3  0\n",
      "1   4   6  0\n",
      "2   2   6  1\n",
      "3   4   3  0\n",
      "4   7   2  0\n",
      "5   4   1  0\n",
      "6   5   1  0\n",
      "7   0   9  0\n",
      "8   8   0  1\n",
      "9   2   6  1\n"
     ]
    }
   ],
   "source": [
    "df=pd.DataFrame(mat,columns=['x1','x2','y'])\n",
    "print(df)"
   ]
  },
  {
   "cell_type": "code",
   "execution_count": 67,
   "metadata": {},
   "outputs": [
    {
     "data": {
      "text/plain": [
       "<Axes: xlabel='x1', ylabel='x2'>"
      ]
     },
     "execution_count": 67,
     "metadata": {},
     "output_type": "execute_result"
    },
    {
     "data": {
      "image/png": "[encoded data removed]",
      "text/plain": [
       "<Figure size 640x480 with 1 Axes>"
      ]
     },
     "metadata": {},
     "output_type": "display_data"
    }
   ],
   "source": [
    "col=df.y.map({1:'red',0:'blue'})\n",
    "df.plot.scatter(x='x1',y='x2',c=col)"
   ]
  },
  {
   "cell_type": "code",
   "execution_count": 78,
   "metadata": {},
   "outputs": [],
   "source": [
    "df['squared_error']=np.square(df['x1']-df['x2'])"
   ]
  },
  {
   "cell_type": "code",
   "execution_count": 79,
   "metadata": {},
   "outputs": [
    {
     "name": "stdout",
     "output_type": "stream",
     "text": [
      "241\n"
     ]
    }
   ],
   "source": [
    "print(np.sum(df['squared_error']))\n"
   ]
  },
  {
   "cell_type": "code",
   "execution_count": 83,
   "metadata": {},
   "outputs": [
    {
     "name": "stdout",
     "output_type": "stream",
     "text": [
      "3.605551275463989\n"
     ]
    }
   ],
   "source": [
    "row1=mat[0,:]\n",
    "row2=mat[1,:]\n",
    "#using numpy.linalg.norm\n",
    "euclidiam_distance=np.linalg.norm(row1-row2)\n",
    "#manual calculation\n",
    "euclidiam_distance1=np.sqrt(np.sum(np.square(row1-row2)))\n",
    "print(euclidiam_distance)"
   ]
  },
  {
   "cell_type": "code",
   "execution_count": 86,
   "metadata": {},
   "outputs": [
    {
     "name": "stdout",
     "output_type": "stream",
     "text": [
      "[6 9]\n"
     ]
    }
   ],
   "source": [
    "V=np.random.randint(10,size=(2,))\n",
    "print(V)"
   ]
  },
  {
   "cell_type": "code",
   "execution_count": 87,
   "metadata": {},
   "outputs": [
    {
     "name": "stdout",
     "output_type": "stream",
     "text": [
      "6.0\n",
      "3.605551275463989\n",
      "5.0\n",
      "6.324555320336759\n",
      "7.0710678118654755\n",
      "8.246211251235321\n",
      "8.06225774829855\n",
      "6.0\n",
      "9.219544457292887\n",
      "5.0\n"
     ]
    }
   ],
   "source": [
    "for row in mat:\n",
    "    print(np.linalg.norm(row[0:2]-V))"
   ]
  },
  {
   "cell_type": "code",
   "execution_count": 95,
   "metadata": {},
   "outputs": [
    {
     "name": "stdout",
     "output_type": "stream",
     "text": [
      "[[5 5 7]\n",
      " [0 8 0]\n",
      " [5 2 8]\n",
      " [3 3 8]\n",
      " [2 9 1]\n",
      " [2 2 6]\n",
      " [3 6 9]\n",
      " [3 8 2]\n",
      " [0 7 6]\n",
      " [6 1 9]]\n",
      "[8 3 0]\n",
      "[[5 5 7]\n",
      " [0 8 0]\n",
      " [5 2 8]\n",
      " [3 3 8]\n",
      " [2 9 1]\n",
      " [2 2 6]\n",
      " [3 6 9]\n",
      " [3 8 2]\n",
      " [0 7 6]\n",
      " [6 1 9]\n",
      " [8 3 0]]\n"
     ]
    }
   ],
   "source": [
    "A=np.random.randint(10,size=(10,2))\n",
    "\n",
    "C=np.random.randint(10,size=(10,))\n",
    "\n",
    "A=np.column_stack((A,C))\n",
    "print(A)\n",
    "R=np.random.randint(10,size=(3,))\n",
    "print(R)\n",
    "A=np.vstack((A,R))\n",
    "print(A)\n"
   ]
  },
  {
   "cell_type": "code",
   "execution_count": null,
   "metadata": {},
   "outputs": [],
   "source": []
  }
 ],
 "metadata": {
  "kernelspec": {
   "display_name": "Python 3",
   "language": "python",
   "name": "python3"
  },
  "language_info": {
   "codemirror_mode": {
    "name": "ipython",
    "version": 3
   },
   "file_extension": ".py",
   "mimetype": "text/x-python",
   "name": "python",
   "nbconvert_exporter": "python",
   "pygments_lexer": "ipython3",
   "version": "3.10.12"
  }
 },
 "nbformat": 4,
 "nbformat_minor": 2
}
